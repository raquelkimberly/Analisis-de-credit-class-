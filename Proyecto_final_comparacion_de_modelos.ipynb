{
  "cells": [
    {
      "cell_type": "markdown",
      "id": "ccc005e4",
      "metadata": {
        "id": "ccc005e4"
      },
      "source": [
        "\n",
        "\n",
        "# Proyecto Final\n",
        "\n",
        "## Datos Personales\n",
        "\n",
        "* **Nombre Completo**: Raquel Kimberly San Martín Saavedra\n",
        "* **ID Coding Dojo**: 80907\n",
        "\n"
      ]
    },
    {
      "cell_type": "markdown",
      "id": "eb011589",
      "metadata": {
        "id": "eb011589"
      },
      "source": [
        "## Descripción del Problema\n",
        "Compararemos diferentes modelos predictivos para el pago de deuda de diferentes clientes de una entidad financiera\n",
        "\n",
        "### Descripción del Conjunto de Datos\n",
        "\n",
        "| Column Name    | Data Type | Description                                                                               |\n",
        "|----------------|-----------|-------------------------------------------------------------------------------------------|\n",
        "| default payment next month           | int       | pago por defecto (0 = no, 1 = sí) (objetivo)  |                                                                        |\n",
        "| LIMIT_BAL      | int  |  consumo del credito individual como familiar                                    |\n",
        "| SEX | int    | (sexo 1 = masculino, 2= femenino) |\n",
        "| ...            | ...       | ...                                                                                       |\n",
        "\n",
        "\n"
      ]
    },
    {
      "cell_type": "markdown",
      "id": "bd05e80d",
      "metadata": {
        "id": "bd05e80d"
      },
      "source": [
        "## Solución"
      ]
    },
    {
      "cell_type": "code",
      "execution_count": 1,
      "id": "2f2af813",
      "metadata": {
        "id": "2f2af813"
      },
      "outputs": [],
      "source": [
        "# librerias\n",
        "import matplotlib.pyplot as plt\n",
        "import pandas as pd\n",
        "import numpy as np\n",
        "import seaborn as sns\n",
        "from sklearn.model_selection import train_test_split\n",
        "from sklearn.pipeline import make_pipeline\n",
        "from sklearn.preprocessing import StandardScaler, OneHotEncoder\n",
        "from sklearn.impute import SimpleImputer\n",
        "from sklearn.compose import make_column_transformer, make_column_selector\n",
        "from imblearn.under_sampling import NearMiss\n",
        "\n",
        "#librerias modelos\n",
        "from sklearn.decomposition import PCA\n",
        "from sklearn.linear_model import LogisticRegression\n",
        "from sklearn.tree import DecisionTreeClassifier\n",
        "from sklearn.ensemble import BaggingClassifier\n",
        "from sklearn.ensemble import RandomForestClassifier\n",
        "from sklearn.neighbors import KNeighborsClassifier\n",
        "from tensorflow.keras.models import Sequential\n",
        "from tensorflow.keras.layers import Dense, Dropout\n",
        "\n",
        "# librerias validacion\n",
        "from sklearn.metrics import accuracy_score, precision_score, recall_score, classification_report,confusion_matrix, ConfusionMatrixDisplay\n",
        "from sklearn.metrics import roc_auc_score, RocCurveDisplay"
      ]
    },
    {
      "cell_type": "markdown",
      "id": "189e133c",
      "metadata": {
        "id": "189e133c"
      },
      "source": [
        "### I.- Análisis Exploratorio"
      ]
    },
    {
      "cell_type": "markdown",
      "id": "7e6600f4",
      "metadata": {
        "id": "7e6600f4"
      },
      "source": [
        "**Manipulación de datos**"
      ]
    },
    {
      "cell_type": "code",
      "source": [
        "from google.colab import drive\n",
        "drive.mount('/content/drive')"
      ],
      "metadata": {
        "colab": {
          "base_uri": "https://localhost:8080/"
        },
        "id": "3MZRsTP4vzt-",
        "outputId": "9cbe171e-8114-46bd-b3d5-830ea2906fdd"
      },
      "id": "3MZRsTP4vzt-",
      "execution_count": 2,
      "outputs": [
        {
          "output_type": "stream",
          "name": "stdout",
          "text": [
            "Mounted at /content/drive\n"
          ]
        }
      ]
    },
    {
      "cell_type": "code",
      "execution_count": 3,
      "id": "0b06bb13",
      "metadata": {
        "id": "0b06bb13",
        "colab": {
          "base_uri": "https://localhost:8080/",
          "height": 351
        },
        "outputId": "14cfbd77-1e92-44cd-ae52-2faab89b3ab4"
      },
      "outputs": [
        {
          "output_type": "execute_result",
          "data": {
            "text/plain": [
              "   ID  LIMIT_BAL  SEX  EDUCATION  MARRIAGE  AGE  PAY_0  PAY_2  PAY_3  PAY_4  \\\n",
              "0   1      20000    2          2         1   24      2      2     -1     -1   \n",
              "1   2     120000    2          2         2   26     -1      2      0      0   \n",
              "2   3      90000    2          2         2   34      0      0      0      0   \n",
              "3   4      50000    2          2         1   37      0      0      0      0   \n",
              "4   5      50000    1          2         1   57     -1      0     -1      0   \n",
              "\n",
              "   ...  BILL_AMT4  BILL_AMT5  BILL_AMT6  PAY_AMT1  PAY_AMT2  PAY_AMT3  \\\n",
              "0  ...          0          0          0         0       689         0   \n",
              "1  ...       3272       3455       3261         0      1000      1000   \n",
              "2  ...      14331      14948      15549      1518      1500      1000   \n",
              "3  ...      28314      28959      29547      2000      2019      1200   \n",
              "4  ...      20940      19146      19131      2000     36681     10000   \n",
              "\n",
              "   PAY_AMT4  PAY_AMT5  PAY_AMT6  default payment next month  \n",
              "0         0         0         0                           1  \n",
              "1      1000         0      2000                           1  \n",
              "2      1000      1000      5000                           0  \n",
              "3      1100      1069      1000                           0  \n",
              "4      9000       689       679                           0  \n",
              "\n",
              "[5 rows x 25 columns]"
            ],
            "text/html": [
              "\n",
              "  <div id=\"df-4c6b48dd-e939-4293-969e-99ed9787aba6\">\n",
              "    <div class=\"colab-df-container\">\n",
              "      <div>\n",
              "<style scoped>\n",
              "    .dataframe tbody tr th:only-of-type {\n",
              "        vertical-align: middle;\n",
              "    }\n",
              "\n",
              "    .dataframe tbody tr th {\n",
              "        vertical-align: top;\n",
              "    }\n",
              "\n",
              "    .dataframe thead th {\n",
              "        text-align: right;\n",
              "    }\n",
              "</style>\n",
              "<table border=\"1\" class=\"dataframe\">\n",
              "  <thead>\n",
              "    <tr style=\"text-align: right;\">\n",
              "      <th></th>\n",
              "      <th>ID</th>\n",
              "      <th>LIMIT_BAL</th>\n",
              "      <th>SEX</th>\n",
              "      <th>EDUCATION</th>\n",
              "      <th>MARRIAGE</th>\n",
              "      <th>AGE</th>\n",
              "      <th>PAY_0</th>\n",
              "      <th>PAY_2</th>\n",
              "      <th>PAY_3</th>\n",
              "      <th>PAY_4</th>\n",
              "      <th>...</th>\n",
              "      <th>BILL_AMT4</th>\n",
              "      <th>BILL_AMT5</th>\n",
              "      <th>BILL_AMT6</th>\n",
              "      <th>PAY_AMT1</th>\n",
              "      <th>PAY_AMT2</th>\n",
              "      <th>PAY_AMT3</th>\n",
              "      <th>PAY_AMT4</th>\n",
              "      <th>PAY_AMT5</th>\n",
              "      <th>PAY_AMT6</th>\n",
              "      <th>default payment next month</th>\n",
              "    </tr>\n",
              "  </thead>\n",
              "  <tbody>\n",
              "    <tr>\n",
              "      <th>0</th>\n",
              "      <td>1</td>\n",
              "      <td>20000</td>\n",
              "      <td>2</td>\n",
              "      <td>2</td>\n",
              "      <td>1</td>\n",
              "      <td>24</td>\n",
              "      <td>2</td>\n",
              "      <td>2</td>\n",
              "      <td>-1</td>\n",
              "      <td>-1</td>\n",
              "      <td>...</td>\n",
              "      <td>0</td>\n",
              "      <td>0</td>\n",
              "      <td>0</td>\n",
              "      <td>0</td>\n",
              "      <td>689</td>\n",
              "      <td>0</td>\n",
              "      <td>0</td>\n",
              "      <td>0</td>\n",
              "      <td>0</td>\n",
              "      <td>1</td>\n",
              "    </tr>\n",
              "    <tr>\n",
              "      <th>1</th>\n",
              "      <td>2</td>\n",
              "      <td>120000</td>\n",
              "      <td>2</td>\n",
              "      <td>2</td>\n",
              "      <td>2</td>\n",
              "      <td>26</td>\n",
              "      <td>-1</td>\n",
              "      <td>2</td>\n",
              "      <td>0</td>\n",
              "      <td>0</td>\n",
              "      <td>...</td>\n",
              "      <td>3272</td>\n",
              "      <td>3455</td>\n",
              "      <td>3261</td>\n",
              "      <td>0</td>\n",
              "      <td>1000</td>\n",
              "      <td>1000</td>\n",
              "      <td>1000</td>\n",
              "      <td>0</td>\n",
              "      <td>2000</td>\n",
              "      <td>1</td>\n",
              "    </tr>\n",
              "    <tr>\n",
              "      <th>2</th>\n",
              "      <td>3</td>\n",
              "      <td>90000</td>\n",
              "      <td>2</td>\n",
              "      <td>2</td>\n",
              "      <td>2</td>\n",
              "      <td>34</td>\n",
              "      <td>0</td>\n",
              "      <td>0</td>\n",
              "      <td>0</td>\n",
              "      <td>0</td>\n",
              "      <td>...</td>\n",
              "      <td>14331</td>\n",
              "      <td>14948</td>\n",
              "      <td>15549</td>\n",
              "      <td>1518</td>\n",
              "      <td>1500</td>\n",
              "      <td>1000</td>\n",
              "      <td>1000</td>\n",
              "      <td>1000</td>\n",
              "      <td>5000</td>\n",
              "      <td>0</td>\n",
              "    </tr>\n",
              "    <tr>\n",
              "      <th>3</th>\n",
              "      <td>4</td>\n",
              "      <td>50000</td>\n",
              "      <td>2</td>\n",
              "      <td>2</td>\n",
              "      <td>1</td>\n",
              "      <td>37</td>\n",
              "      <td>0</td>\n",
              "      <td>0</td>\n",
              "      <td>0</td>\n",
              "      <td>0</td>\n",
              "      <td>...</td>\n",
              "      <td>28314</td>\n",
              "      <td>28959</td>\n",
              "      <td>29547</td>\n",
              "      <td>2000</td>\n",
              "      <td>2019</td>\n",
              "      <td>1200</td>\n",
              "      <td>1100</td>\n",
              "      <td>1069</td>\n",
              "      <td>1000</td>\n",
              "      <td>0</td>\n",
              "    </tr>\n",
              "    <tr>\n",
              "      <th>4</th>\n",
              "      <td>5</td>\n",
              "      <td>50000</td>\n",
              "      <td>1</td>\n",
              "      <td>2</td>\n",
              "      <td>1</td>\n",
              "      <td>57</td>\n",
              "      <td>-1</td>\n",
              "      <td>0</td>\n",
              "      <td>-1</td>\n",
              "      <td>0</td>\n",
              "      <td>...</td>\n",
              "      <td>20940</td>\n",
              "      <td>19146</td>\n",
              "      <td>19131</td>\n",
              "      <td>2000</td>\n",
              "      <td>36681</td>\n",
              "      <td>10000</td>\n",
              "      <td>9000</td>\n",
              "      <td>689</td>\n",
              "      <td>679</td>\n",
              "      <td>0</td>\n",
              "    </tr>\n",
              "  </tbody>\n",
              "</table>\n",
              "<p>5 rows × 25 columns</p>\n",
              "</div>\n",
              "      <button class=\"colab-df-convert\" onclick=\"convertToInteractive('df-4c6b48dd-e939-4293-969e-99ed9787aba6')\"\n",
              "              title=\"Convert this dataframe to an interactive table.\"\n",
              "              style=\"display:none;\">\n",
              "        \n",
              "  <svg xmlns=\"http://www.w3.org/2000/svg\" height=\"24px\"viewBox=\"0 0 24 24\"\n",
              "       width=\"24px\">\n",
              "    <path d=\"M0 0h24v24H0V0z\" fill=\"none\"/>\n",
              "    <path d=\"M18.56 5.44l.94 2.06.94-2.06 2.06-.94-2.06-.94-.94-2.06-.94 2.06-2.06.94zm-11 1L8.5 8.5l.94-2.06 2.06-.94-2.06-.94L8.5 2.5l-.94 2.06-2.06.94zm10 10l.94 2.06.94-2.06 2.06-.94-2.06-.94-.94-2.06-.94 2.06-2.06.94z\"/><path d=\"M17.41 7.96l-1.37-1.37c-.4-.4-.92-.59-1.43-.59-.52 0-1.04.2-1.43.59L10.3 9.45l-7.72 7.72c-.78.78-.78 2.05 0 2.83L4 21.41c.39.39.9.59 1.41.59.51 0 1.02-.2 1.41-.59l7.78-7.78 2.81-2.81c.8-.78.8-2.07 0-2.86zM5.41 20L4 18.59l7.72-7.72 1.47 1.35L5.41 20z\"/>\n",
              "  </svg>\n",
              "      </button>\n",
              "      \n",
              "  <style>\n",
              "    .colab-df-container {\n",
              "      display:flex;\n",
              "      flex-wrap:wrap;\n",
              "      gap: 12px;\n",
              "    }\n",
              "\n",
              "    .colab-df-convert {\n",
              "      background-color: #E8F0FE;\n",
              "      border: none;\n",
              "      border-radius: 50%;\n",
              "      cursor: pointer;\n",
              "      display: none;\n",
              "      fill: #1967D2;\n",
              "      height: 32px;\n",
              "      padding: 0 0 0 0;\n",
              "      width: 32px;\n",
              "    }\n",
              "\n",
              "    .colab-df-convert:hover {\n",
              "      background-color: #E2EBFA;\n",
              "      box-shadow: 0px 1px 2px rgba(60, 64, 67, 0.3), 0px 1px 3px 1px rgba(60, 64, 67, 0.15);\n",
              "      fill: #174EA6;\n",
              "    }\n",
              "\n",
              "    [theme=dark] .colab-df-convert {\n",
              "      background-color: #3B4455;\n",
              "      fill: #D2E3FC;\n",
              "    }\n",
              "\n",
              "    [theme=dark] .colab-df-convert:hover {\n",
              "      background-color: #434B5C;\n",
              "      box-shadow: 0px 1px 3px 1px rgba(0, 0, 0, 0.15);\n",
              "      filter: drop-shadow(0px 1px 2px rgba(0, 0, 0, 0.3));\n",
              "      fill: #FFFFFF;\n",
              "    }\n",
              "  </style>\n",
              "\n",
              "      <script>\n",
              "        const buttonEl =\n",
              "          document.querySelector('#df-4c6b48dd-e939-4293-969e-99ed9787aba6 button.colab-df-convert');\n",
              "        buttonEl.style.display =\n",
              "          google.colab.kernel.accessAllowed ? 'block' : 'none';\n",
              "\n",
              "        async function convertToInteractive(key) {\n",
              "          const element = document.querySelector('#df-4c6b48dd-e939-4293-969e-99ed9787aba6');\n",
              "          const dataTable =\n",
              "            await google.colab.kernel.invokeFunction('convertToInteractive',\n",
              "                                                     [key], {});\n",
              "          if (!dataTable) return;\n",
              "\n",
              "          const docLinkHtml = 'Like what you see? Visit the ' +\n",
              "            '<a target=\"_blank\" href=https://colab.research.google.com/notebooks/data_table.ipynb>data table notebook</a>'\n",
              "            + ' to learn more about interactive tables.';\n",
              "          element.innerHTML = '';\n",
              "          dataTable['output_type'] = 'display_data';\n",
              "          await google.colab.output.renderOutput(dataTable, element);\n",
              "          const docLink = document.createElement('div');\n",
              "          docLink.innerHTML = docLinkHtml;\n",
              "          element.appendChild(docLink);\n",
              "        }\n",
              "      </script>\n",
              "    </div>\n",
              "  </div>\n",
              "  "
            ]
          },
          "metadata": {},
          "execution_count": 3
        }
      ],
      "source": [
        "# Carga de datos\n",
        "df = pd.read_excel('/content/drive/MyDrive/CODIFICACION DOJO/default of credit card clients.xls',header=1)\n",
        "df.head()"
      ]
    },
    {
      "cell_type": "code",
      "source": [
        "df=df.drop(['ID'], axis=1)"
      ],
      "metadata": {
        "id": "uT8F3U2owr_S"
      },
      "id": "uT8F3U2owr_S",
      "execution_count": 4,
      "outputs": []
    },
    {
      "cell_type": "markdown",
      "source": [
        "De este conjunto de datos nos damos cuenta que nuestra variable objetivo ya esta codificado con 0 y 1, que representa no y si respectivamente"
      ],
      "metadata": {
        "id": "ELhujIMp0S0I"
      },
      "id": "ELhujIMp0S0I"
    },
    {
      "cell_type": "code",
      "source": [
        "df.info()"
      ],
      "metadata": {
        "colab": {
          "base_uri": "https://localhost:8080/"
        },
        "id": "uDBSSqSO0ln8",
        "outputId": "b462534b-8909-4f7a-8bc3-1462229ddc46"
      },
      "id": "uDBSSqSO0ln8",
      "execution_count": 5,
      "outputs": [
        {
          "output_type": "stream",
          "name": "stdout",
          "text": [
            "<class 'pandas.core.frame.DataFrame'>\n",
            "RangeIndex: 30000 entries, 0 to 29999\n",
            "Data columns (total 24 columns):\n",
            " #   Column                      Non-Null Count  Dtype\n",
            "---  ------                      --------------  -----\n",
            " 0   LIMIT_BAL                   30000 non-null  int64\n",
            " 1   SEX                         30000 non-null  int64\n",
            " 2   EDUCATION                   30000 non-null  int64\n",
            " 3   MARRIAGE                    30000 non-null  int64\n",
            " 4   AGE                         30000 non-null  int64\n",
            " 5   PAY_0                       30000 non-null  int64\n",
            " 6   PAY_2                       30000 non-null  int64\n",
            " 7   PAY_3                       30000 non-null  int64\n",
            " 8   PAY_4                       30000 non-null  int64\n",
            " 9   PAY_5                       30000 non-null  int64\n",
            " 10  PAY_6                       30000 non-null  int64\n",
            " 11  BILL_AMT1                   30000 non-null  int64\n",
            " 12  BILL_AMT2                   30000 non-null  int64\n",
            " 13  BILL_AMT3                   30000 non-null  int64\n",
            " 14  BILL_AMT4                   30000 non-null  int64\n",
            " 15  BILL_AMT5                   30000 non-null  int64\n",
            " 16  BILL_AMT6                   30000 non-null  int64\n",
            " 17  PAY_AMT1                    30000 non-null  int64\n",
            " 18  PAY_AMT2                    30000 non-null  int64\n",
            " 19  PAY_AMT3                    30000 non-null  int64\n",
            " 20  PAY_AMT4                    30000 non-null  int64\n",
            " 21  PAY_AMT5                    30000 non-null  int64\n",
            " 22  PAY_AMT6                    30000 non-null  int64\n",
            " 23  default payment next month  30000 non-null  int64\n",
            "dtypes: int64(24)\n",
            "memory usage: 5.5 MB\n"
          ]
        }
      ]
    },
    {
      "cell_type": "code",
      "source": [
        "df.duplicated().sum()"
      ],
      "metadata": {
        "colab": {
          "base_uri": "https://localhost:8080/"
        },
        "id": "Sg3GoAPQ0y8i",
        "outputId": "7efb274c-66b9-43d0-9c32-ab1a285352fa"
      },
      "id": "Sg3GoAPQ0y8i",
      "execution_count": 6,
      "outputs": [
        {
          "output_type": "execute_result",
          "data": {
            "text/plain": [
              "35"
            ]
          },
          "metadata": {},
          "execution_count": 6
        }
      ]
    },
    {
      "cell_type": "code",
      "source": [
        "df=df.drop_duplicates()"
      ],
      "metadata": {
        "id": "cUvOwzuCwxrB"
      },
      "id": "cUvOwzuCwxrB",
      "execution_count": 7,
      "outputs": []
    },
    {
      "cell_type": "markdown",
      "source": [
        "segun la informacion salida no tenemos nulos pero si duplicados por ello se procedio a eliminar los duplicados "
      ],
      "metadata": {
        "id": "GDACzaPy0pBY"
      },
      "id": "GDACzaPy0pBY"
    },
    {
      "cell_type": "code",
      "source": [
        "count_classes=df['default payment next month'].value_counts(normalize=True)\n",
        "df['default payment next month'].value_counts()"
      ],
      "metadata": {
        "colab": {
          "base_uri": "https://localhost:8080/"
        },
        "id": "y9aCpKoj087F",
        "outputId": "d4a514a1-11fe-4cf6-e90c-b5421181480e"
      },
      "id": "y9aCpKoj087F",
      "execution_count": 8,
      "outputs": [
        {
          "output_type": "execute_result",
          "data": {
            "text/plain": [
              "0    23335\n",
              "1     6630\n",
              "Name: default payment next month, dtype: int64"
            ]
          },
          "metadata": {},
          "execution_count": 8
        }
      ]
    },
    {
      "cell_type": "code",
      "source": [
        "count_classes.plot(kind='bar', rot=0,color= 'Orange')\n",
        "plt.title('Pagos realizados al mes siguientes')\n",
        "plt.show()"
      ],
      "metadata": {
        "colab": {
          "base_uri": "https://localhost:8080/",
          "height": 281
        },
        "id": "eJSjWmoE8fN-",
        "outputId": "cf068f2d-a11c-4204-c759-64a49d812356"
      },
      "id": "eJSjWmoE8fN-",
      "execution_count": 9,
      "outputs": [
        {
          "output_type": "display_data",
          "data": {
            "text/plain": [
              "<Figure size 432x288 with 1 Axes>"
            ],
            "image/png": "[encoded data removed]"
          },
          "metadata": {
            "needs_background": "light"
          }
        }
      ]
    },
    {
      "cell_type": "markdown",
      "source": [
        "Podemos notar que hay un desbalanceo de si y no avanzaremos para ver si este problema afecta mi modelo"
      ],
      "metadata": {
        "id": "JQKavcaJ1WzS"
      },
      "id": "JQKavcaJ1WzS"
    },
    {
      "cell_type": "code",
      "source": [
        "df.describe()"
      ],
      "metadata": {
        "colab": {
          "base_uri": "https://localhost:8080/",
          "height": 428
        },
        "id": "MPitUrIL1xmv",
        "outputId": "5e26a1b9-a3df-4f9e-fdc0-416f3d1c50f0"
      },
      "id": "MPitUrIL1xmv",
      "execution_count": 10,
      "outputs": [
        {
          "output_type": "execute_result",
          "data": {
            "text/plain": [
              "            LIMIT_BAL           SEX     EDUCATION      MARRIAGE           AGE  \\\n",
              "count    29965.000000  29965.000000  29965.000000  29965.000000  29965.000000   \n",
              "mean    167442.005006      1.603738      1.853629      1.551877     35.487969   \n",
              "std     129760.135222      0.489128      0.790411      0.521997      9.219459   \n",
              "min      10000.000000      1.000000      0.000000      0.000000     21.000000   \n",
              "25%      50000.000000      1.000000      1.000000      1.000000     28.000000   \n",
              "50%     140000.000000      2.000000      2.000000      2.000000     34.000000   \n",
              "75%     240000.000000      2.000000      2.000000      2.000000     41.000000   \n",
              "max    1000000.000000      2.000000      6.000000      3.000000     79.000000   \n",
              "\n",
              "              PAY_0         PAY_2         PAY_3         PAY_4         PAY_5  \\\n",
              "count  29965.000000  29965.000000  29965.000000  29965.000000  29965.000000   \n",
              "mean      -0.016753     -0.131854     -0.164392     -0.218922     -0.264509   \n",
              "std        1.123492      1.196322      1.195878      1.168175      1.132220   \n",
              "min       -2.000000     -2.000000     -2.000000     -2.000000     -2.000000   \n",
              "25%       -1.000000     -1.000000     -1.000000     -1.000000     -1.000000   \n",
              "50%        0.000000      0.000000      0.000000      0.000000      0.000000   \n",
              "75%        0.000000      0.000000      0.000000      0.000000      0.000000   \n",
              "max        8.000000      8.000000      8.000000      8.000000      8.000000   \n",
              "\n",
              "       ...      BILL_AMT4      BILL_AMT5      BILL_AMT6       PAY_AMT1  \\\n",
              "count  ...   29965.000000   29965.000000   29965.000000   29965.000000   \n",
              "mean   ...   43313.329885   40358.334390   38917.012281    5670.099316   \n",
              "std    ...   64353.514373   60817.130623   59574.147742   16571.849467   \n",
              "min    ... -170000.000000  -81334.000000 -339603.000000       0.000000   \n",
              "25%    ...    2360.000000    1787.000000    1262.000000    1000.000000   \n",
              "50%    ...   19081.000000   18130.000000   17124.000000    2102.000000   \n",
              "75%    ...   54601.000000   50247.000000   49252.000000    5008.000000   \n",
              "max    ...  891586.000000  927171.000000  961664.000000  873552.000000   \n",
              "\n",
              "           PAY_AMT2       PAY_AMT3       PAY_AMT4       PAY_AMT5  \\\n",
              "count  2.996500e+04   29965.000000   29965.000000   29965.000000   \n",
              "mean   5.927983e+03    5231.688837    4831.617454    4804.897047   \n",
              "std    2.305346e+04   17616.361124   15674.464538   15286.372298   \n",
              "min    0.000000e+00       0.000000       0.000000       0.000000   \n",
              "25%    8.500000e+02     390.000000     300.000000     261.000000   \n",
              "50%    2.010000e+03    1804.000000    1500.000000    1500.000000   \n",
              "75%    5.000000e+03    4512.000000    4016.000000    4042.000000   \n",
              "max    1.684259e+06  896040.000000  621000.000000  426529.000000   \n",
              "\n",
              "            PAY_AMT6  default payment next month  \n",
              "count   29965.000000                29965.000000  \n",
              "mean     5221.498014                    0.221258  \n",
              "std     17786.976864                    0.415101  \n",
              "min         0.000000                    0.000000  \n",
              "25%       131.000000                    0.000000  \n",
              "50%      1500.000000                    0.000000  \n",
              "75%      4000.000000                    0.000000  \n",
              "max    528666.000000                    1.000000  \n",
              "\n",
              "[8 rows x 24 columns]"
            ],
            "text/html": [
              "\n",
              "  <div id=\"df-ecd115c2-65cf-4ae3-958d-b8aa4b528fb9\">\n",
              "    <div class=\"colab-df-container\">\n",
              "      <div>\n",
              "<style scoped>\n",
              "    .dataframe tbody tr th:only-of-type {\n",
              "        vertical-align: middle;\n",
              "    }\n",
              "\n",
              "    .dataframe tbody tr th {\n",
              "        vertical-align: top;\n",
              "    }\n",
              "\n",
              "    .dataframe thead th {\n",
              "        text-align: right;\n",
              "    }\n",
              "</style>\n",
              "<table border=\"1\" class=\"dataframe\">\n",
              "  <thead>\n",
              "    <tr style=\"text-align: right;\">\n",
              "      <th></th>\n",
              "      <th>LIMIT_BAL</th>\n",
              "      <th>SEX</th>\n",
              "      <th>EDUCATION</th>\n",
              "      <th>MARRIAGE</th>\n",
              "      <th>AGE</th>\n",
              "      <th>PAY_0</th>\n",
              "      <th>PAY_2</th>\n",
              "      <th>PAY_3</th>\n",
              "      <th>PAY_4</th>\n",
              "      <th>PAY_5</th>\n",
              "      <th>...</th>\n",
              "      <th>BILL_AMT4</th>\n",
              "      <th>BILL_AMT5</th>\n",
              "      <th>BILL_AMT6</th>\n",
              "      <th>PAY_AMT1</th>\n",
              "      <th>PAY_AMT2</th>\n",
              "      <th>PAY_AMT3</th>\n",
              "      <th>PAY_AMT4</th>\n",
              "      <th>PAY_AMT5</th>\n",
              "      <th>PAY_AMT6</th>\n",
              "      <th>default payment next month</th>\n",
              "    </tr>\n",
              "  </thead>\n",
              "  <tbody>\n",
              "    <tr>\n",
              "      <th>count</th>\n",
              "      <td>29965.000000</td>\n",
              "      <td>29965.000000</td>\n",
              "      <td>29965.000000</td>\n",
              "      <td>29965.000000</td>\n",
              "      <td>29965.000000</td>\n",
              "      <td>29965.000000</td>\n",
              "      <td>29965.000000</td>\n",
              "      <td>29965.000000</td>\n",
              "      <td>29965.000000</td>\n",
              "      <td>29965.000000</td>\n",
              "      <td>...</td>\n",
              "      <td>29965.000000</td>\n",
              "      <td>29965.000000</td>\n",
              "      <td>29965.000000</td>\n",
              "      <td>29965.000000</td>\n",
              "      <td>2.996500e+04</td>\n",
              "      <td>29965.000000</td>\n",
              "      <td>29965.000000</td>\n",
              "      <td>29965.000000</td>\n",
              "      <td>29965.000000</td>\n",
              "      <td>29965.000000</td>\n",
              "    </tr>\n",
              "    <tr>\n",
              "      <th>mean</th>\n",
              "      <td>167442.005006</td>\n",
              "      <td>1.603738</td>\n",
              "      <td>1.853629</td>\n",
              "      <td>1.551877</td>\n",
              "      <td>35.487969</td>\n",
              "      <td>-0.016753</td>\n",
              "      <td>-0.131854</td>\n",
              "      <td>-0.164392</td>\n",
              "      <td>-0.218922</td>\n",
              "      <td>-0.264509</td>\n",
              "      <td>...</td>\n",
              "      <td>43313.329885</td>\n",
              "      <td>40358.334390</td>\n",
              "      <td>38917.012281</td>\n",
              "      <td>5670.099316</td>\n",
              "      <td>5.927983e+03</td>\n",
              "      <td>5231.688837</td>\n",
              "      <td>4831.617454</td>\n",
              "      <td>4804.897047</td>\n",
              "      <td>5221.498014</td>\n",
              "      <td>0.221258</td>\n",
              "    </tr>\n",
              "    <tr>\n",
              "      <th>std</th>\n",
              "      <td>129760.135222</td>\n",
              "      <td>0.489128</td>\n",
              "      <td>0.790411</td>\n",
              "      <td>0.521997</td>\n",
              "      <td>9.219459</td>\n",
              "      <td>1.123492</td>\n",
              "      <td>1.196322</td>\n",
              "      <td>1.195878</td>\n",
              "      <td>1.168175</td>\n",
              "      <td>1.132220</td>\n",
              "      <td>...</td>\n",
              "      <td>64353.514373</td>\n",
              "      <td>60817.130623</td>\n",
              "      <td>59574.147742</td>\n",
              "      <td>16571.849467</td>\n",
              "      <td>2.305346e+04</td>\n",
              "      <td>17616.361124</td>\n",
              "      <td>15674.464538</td>\n",
              "      <td>15286.372298</td>\n",
              "      <td>17786.976864</td>\n",
              "      <td>0.415101</td>\n",
              "    </tr>\n",
              "    <tr>\n",
              "      <th>min</th>\n",
              "      <td>10000.000000</td>\n",
              "      <td>1.000000</td>\n",
              "      <td>0.000000</td>\n",
              "      <td>0.000000</td>\n",
              "      <td>21.000000</td>\n",
              "      <td>-2.000000</td>\n",
              "      <td>-2.000000</td>\n",
              "      <td>-2.000000</td>\n",
              "      <td>-2.000000</td>\n",
              "      <td>-2.000000</td>\n",
              "      <td>...</td>\n",
              "      <td>-170000.000000</td>\n",
              "      <td>-81334.000000</td>\n",
              "      <td>-339603.000000</td>\n",
              "      <td>0.000000</td>\n",
              "      <td>0.000000e+00</td>\n",
              "      <td>0.000000</td>\n",
              "      <td>0.000000</td>\n",
              "      <td>0.000000</td>\n",
              "      <td>0.000000</td>\n",
              "      <td>0.000000</td>\n",
              "    </tr>\n",
              "    <tr>\n",
              "      <th>25%</th>\n",
              "      <td>50000.000000</td>\n",
              "      <td>1.000000</td>\n",
              "      <td>1.000000</td>\n",
              "      <td>1.000000</td>\n",
              "      <td>28.000000</td>\n",
              "      <td>-1.000000</td>\n",
              "      <td>-1.000000</td>\n",
              "      <td>-1.000000</td>\n",
              "      <td>-1.000000</td>\n",
              "      <td>-1.000000</td>\n",
              "      <td>...</td>\n",
              "      <td>2360.000000</td>\n",
              "      <td>1787.000000</td>\n",
              "      <td>1262.000000</td>\n",
              "      <td>1000.000000</td>\n",
              "      <td>8.500000e+02</td>\n",
              "      <td>390.000000</td>\n",
              "      <td>300.000000</td>\n",
              "      <td>261.000000</td>\n",
              "      <td>131.000000</td>\n",
              "      <td>0.000000</td>\n",
              "    </tr>\n",
              "    <tr>\n",
              "      <th>50%</th>\n",
              "      <td>140000.000000</td>\n",
              "      <td>2.000000</td>\n",
              "      <td>2.000000</td>\n",
              "      <td>2.000000</td>\n",
              "      <td>34.000000</td>\n",
              "      <td>0.000000</td>\n",
              "      <td>0.000000</td>\n",
              "      <td>0.000000</td>\n",
              "      <td>0.000000</td>\n",
              "      <td>0.000000</td>\n",
              "      <td>...</td>\n",
              "      <td>19081.000000</td>\n",
              "      <td>18130.000000</td>\n",
              "      <td>17124.000000</td>\n",
              "      <td>2102.000000</td>\n",
              "      <td>2.010000e+03</td>\n",
              "      <td>1804.000000</td>\n",
              "      <td>1500.000000</td>\n",
              "      <td>1500.000000</td>\n",
              "      <td>1500.000000</td>\n",
              "      <td>0.000000</td>\n",
              "    </tr>\n",
              "    <tr>\n",
              "      <th>75%</th>\n",
              "      <td>240000.000000</td>\n",
              "      <td>2.000000</td>\n",
              "      <td>2.000000</td>\n",
              "      <td>2.000000</td>\n",
              "      <td>41.000000</td>\n",
              "      <td>0.000000</td>\n",
              "      <td>0.000000</td>\n",
              "      <td>0.000000</td>\n",
              "      <td>0.000000</td>\n",
              "      <td>0.000000</td>\n",
              "      <td>...</td>\n",
              "      <td>54601.000000</td>\n",
              "      <td>50247.000000</td>\n",
              "      <td>49252.000000</td>\n",
              "      <td>5008.000000</td>\n",
              "      <td>5.000000e+03</td>\n",
              "      <td>4512.000000</td>\n",
              "      <td>4016.000000</td>\n",
              "      <td>4042.000000</td>\n",
              "      <td>4000.000000</td>\n",
              "      <td>0.000000</td>\n",
              "    </tr>\n",
              "    <tr>\n",
              "      <th>max</th>\n",
              "      <td>1000000.000000</td>\n",
              "      <td>2.000000</td>\n",
              "      <td>6.000000</td>\n",
              "      <td>3.000000</td>\n",
              "      <td>79.000000</td>\n",
              "      <td>8.000000</td>\n",
              "      <td>8.000000</td>\n",
              "      <td>8.000000</td>\n",
              "      <td>8.000000</td>\n",
              "      <td>8.000000</td>\n",
              "      <td>...</td>\n",
              "      <td>891586.000000</td>\n",
              "      <td>927171.000000</td>\n",
              "      <td>961664.000000</td>\n",
              "      <td>873552.000000</td>\n",
              "      <td>1.684259e+06</td>\n",
              "      <td>896040.000000</td>\n",
              "      <td>621000.000000</td>\n",
              "      <td>426529.000000</td>\n",
              "      <td>528666.000000</td>\n",
              "      <td>1.000000</td>\n",
              "    </tr>\n",
              "  </tbody>\n",
              "</table>\n",
              "<p>8 rows × 24 columns</p>\n",
              "</div>\n",
              "      <button class=\"colab-df-convert\" onclick=\"convertToInteractive('df-ecd115c2-65cf-4ae3-958d-b8aa4b528fb9')\"\n",
              "              title=\"Convert this dataframe to an interactive table.\"\n",
              "              style=\"display:none;\">\n",
              "        \n",
              "  <svg xmlns=\"http://www.w3.org/2000/svg\" height=\"24px\"viewBox=\"0 0 24 24\"\n",
              "       width=\"24px\">\n",
              "    <path d=\"M0 0h24v24H0V0z\" fill=\"none\"/>\n",
              "    <path d=\"M18.56 5.44l.94 2.06.94-2.06 2.06-.94-2.06-.94-.94-2.06-.94 2.06-2.06.94zm-11 1L8.5 8.5l.94-2.06 2.06-.94-2.06-.94L8.5 2.5l-.94 2.06-2.06.94zm10 10l.94 2.06.94-2.06 2.06-.94-2.06-.94-.94-2.06-.94 2.06-2.06.94z\"/><path d=\"M17.41 7.96l-1.37-1.37c-.4-.4-.92-.59-1.43-.59-.52 0-1.04.2-1.43.59L10.3 9.45l-7.72 7.72c-.78.78-.78 2.05 0 2.83L4 21.41c.39.39.9.59 1.41.59.51 0 1.02-.2 1.41-.59l7.78-7.78 2.81-2.81c.8-.78.8-2.07 0-2.86zM5.41 20L4 18.59l7.72-7.72 1.47 1.35L5.41 20z\"/>\n",
              "  </svg>\n",
              "      </button>\n",
              "      \n",
              "  <style>\n",
              "    .colab-df-container {\n",
              "      display:flex;\n",
              "      flex-wrap:wrap;\n",
              "      gap: 12px;\n",
              "    }\n",
              "\n",
              "    .colab-df-convert {\n",
              "      background-color: #E8F0FE;\n",
              "      border: none;\n",
              "      border-radius: 50%;\n",
              "      cursor: pointer;\n",
              "      display: none;\n",
              "      fill: #1967D2;\n",
              "      height: 32px;\n",
              "      padding: 0 0 0 0;\n",
              "      width: 32px;\n",
              "    }\n",
              "\n",
              "    .colab-df-convert:hover {\n",
              "      background-color: #E2EBFA;\n",
              "      box-shadow: 0px 1px 2px rgba(60, 64, 67, 0.3), 0px 1px 3px 1px rgba(60, 64, 67, 0.15);\n",
              "      fill: #174EA6;\n",
              "    }\n",
              "\n",
              "    [theme=dark] .colab-df-convert {\n",
              "      background-color: #3B4455;\n",
              "      fill: #D2E3FC;\n",
              "    }\n",
              "\n",
              "    [theme=dark] .colab-df-convert:hover {\n",
              "      background-color: #434B5C;\n",
              "      box-shadow: 0px 1px 3px 1px rgba(0, 0, 0, 0.15);\n",
              "      filter: drop-shadow(0px 1px 2px rgba(0, 0, 0, 0.3));\n",
              "      fill: #FFFFFF;\n",
              "    }\n",
              "  </style>\n",
              "\n",
              "      <script>\n",
              "        const buttonEl =\n",
              "          document.querySelector('#df-ecd115c2-65cf-4ae3-958d-b8aa4b528fb9 button.colab-df-convert');\n",
              "        buttonEl.style.display =\n",
              "          google.colab.kernel.accessAllowed ? 'block' : 'none';\n",
              "\n",
              "        async function convertToInteractive(key) {\n",
              "          const element = document.querySelector('#df-ecd115c2-65cf-4ae3-958d-b8aa4b528fb9');\n",
              "          const dataTable =\n",
              "            await google.colab.kernel.invokeFunction('convertToInteractive',\n",
              "                                                     [key], {});\n",
              "          if (!dataTable) return;\n",
              "\n",
              "          const docLinkHtml = 'Like what you see? Visit the ' +\n",
              "            '<a target=\"_blank\" href=https://colab.research.google.com/notebooks/data_table.ipynb>data table notebook</a>'\n",
              "            + ' to learn more about interactive tables.';\n",
              "          element.innerHTML = '';\n",
              "          dataTable['output_type'] = 'display_data';\n",
              "          await google.colab.output.renderOutput(dataTable, element);\n",
              "          const docLink = document.createElement('div');\n",
              "          docLink.innerHTML = docLinkHtml;\n",
              "          element.appendChild(docLink);\n",
              "        }\n",
              "      </script>\n",
              "    </div>\n",
              "  </div>\n",
              "  "
            ]
          },
          "metadata": {},
          "execution_count": 10
        }
      ]
    },
    {
      "cell_type": "markdown",
      "source": [
        "No hay ninguna anomalia en los datos por ello continuamos con nuestro analisis "
      ],
      "metadata": {
        "id": "bf3m1Hwz16DP"
      },
      "id": "bf3m1Hwz16DP"
    },
    {
      "cell_type": "markdown",
      "id": "e4ef584c",
      "metadata": {
        "id": "e4ef584c"
      },
      "source": [
        "**Visualizaciones**"
      ]
    },
    {
      "cell_type": "code",
      "execution_count": 11,
      "id": "d7c20f26",
      "metadata": {
        "id": "d7c20f26",
        "colab": {
          "base_uri": "https://localhost:8080/",
          "height": 391
        },
        "outputId": "a8453e0c-1871-4e76-c8aa-6cd28f07bb25"
      },
      "outputs": [
        {
          "output_type": "display_data",
          "data": {
            "text/plain": [
              "<Figure size 720x432 with 1 Axes>"
            ],
            "image/png": "[encoded data removed]"
          },
          "metadata": {
            "needs_background": "light"
          }
        }
      ],
      "source": [
        "# solucion\n",
        "plt.figure(figsize=(10, 6))\n",
        "sns.boxplot(data=df,color='Orange')\n",
        "plt.title('Grafico de cajas de las variables analizadas')\n",
        "plt.show()"
      ]
    },
    {
      "cell_type": "markdown",
      "source": [
        "En este grafico, podemos ver que hay outlier en las variables pero ellos se puede explicar por la variabilidad de los resultados y seria consultar estos resultados a la persona especializada"
      ],
      "metadata": {
        "id": "or4j1Cih2t4B"
      },
      "id": "or4j1Cih2t4B"
    },
    {
      "cell_type": "code",
      "source": [
        "corr=df.corr()\n",
        "fig, ax = plt.subplots(figsize = (15, 15))\n",
        "sns.heatmap(corr, cmap = 'Oranges', annot = True, fmt=\".1f\", ax = ax)\n"
      ],
      "metadata": {
        "colab": {
          "base_uri": "https://localhost:8080/",
          "height": 1000
        },
        "id": "VLbg1f173Itr",
        "outputId": "83aeda06-eac2-41d9-e2cd-e807a2678cfe"
      },
      "id": "VLbg1f173Itr",
      "execution_count": 12,
      "outputs": [
        {
          "output_type": "execute_result",
          "data": {
            "text/plain": [
              "<matplotlib.axes._subplots.AxesSubplot at 0x7f4e06b42220>"
            ]
          },
          "metadata": {},
          "execution_count": 12
        },
        {
          "output_type": "display_data",
          "data": {
            "text/plain": [
              "<Figure size 1080x1080 with 2 Axes>"
            ],
            "image/png": "[encoded data removed]"
          },
          "metadata": {
            "needs_background": "light"
          }
        }
      ]
    },
    {
      "cell_type": "markdown",
      "source": [
        "El grafico de correlacion podemos ver la correlacion de nuestra variable objetivo con las demas variables, ahi notamos que no hay mucha correlacion entre estos pero notamos que en las variables de estado de pago del 2005 de abril y setiembre hay alta correlacion entre ellos"
      ],
      "metadata": {
        "id": "ySushMKV4AAr"
      },
      "id": "ySushMKV4AAr"
    },
    {
      "cell_type": "code",
      "source": [
        "#more side-by-side comparisons\n",
        "fig, (maxis1, maxis2) = plt.subplots(1, 2,figsize=(12,6))\n",
        "\n",
        "#how does family size factor with sex & survival compare\n",
        "sns.pointplot(x=df['EDUCATION'], y=df['LIMIT_BAL'], hue=df['default payment next month'], data=df,\n",
        "              #palette={\"1\": \"black\", \"2\": \"orange\"},\n",
        "              markers=[\"*\", \"o\"], linestyles=[\"-\", \"--\"], ax = maxis1)\n",
        "\n",
        "#how does class factor with sex & survival compare\n",
        "sns.pointplot(x=df['MARRIAGE'], y=df['LIMIT_BAL'], hue=df['default payment next month'], data=df,\n",
        "              #palette={\"1\": \"black\", \"2\": \"orange\"},\n",
        "              markers=[\"*\", \"o\"], linestyles=[\"-\", \"--\"], ax = maxis2)\n",
        "\n",
        "\n",
        "plt.show()"
      ],
      "metadata": {
        "colab": {
          "base_uri": "https://localhost:8080/",
          "height": 388
        },
        "id": "IZvku_DtpEGb",
        "outputId": "8fd823d2-6a0f-4b33-a787-089bcdfb6ddd"
      },
      "id": "IZvku_DtpEGb",
      "execution_count": 13,
      "outputs": [
        {
          "output_type": "display_data",
          "data": {
            "text/plain": [
              "<Figure size 864x432 with 2 Axes>"
            ],
            "image/png": "[encoded data removed]"
          },
          "metadata": {
            "needs_background": "light"
          }
        }
      ]
    },
    {
      "cell_type": "code",
      "source": [
        "#histogram comparison of sex, class, and age by survival\n",
        "h = sns.FacetGrid(df, row = 'SEX', col = 'EDUCATION', hue = 'default payment next month')\n",
        "h.map(plt.hist, 'AGE', alpha = .75)\n",
        "h.add_legend()\n",
        "\n",
        "plt.show()"
      ],
      "metadata": {
        "colab": {
          "base_uri": "https://localhost:8080/",
          "height": 304
        },
        "id": "8Ipd_m7qpDxZ",
        "outputId": "5c64e662-1259-4219-e6d7-e3dd5660ebc5"
      },
      "id": "8Ipd_m7qpDxZ",
      "execution_count": 14,
      "outputs": [
        {
          "output_type": "display_data",
          "data": {
            "text/plain": [
              "<Figure size 1663.38x432 with 14 Axes>"
            ],
            "image/png": "[encoded data removed]"
          },
          "metadata": {
            "needs_background": "light"
          }
        }
      ]
    },
    {
      "cell_type": "markdown",
      "source": [
        "**Escalamiento de los datos**"
      ],
      "metadata": {
        "id": "v8IkzqUw4mYY"
      },
      "id": "v8IkzqUw4mYY"
    },
    {
      "cell_type": "markdown",
      "source": [
        "Analizando los datos notamos que no hay variables categoricas en las variables dependientes, solo tenemos nuestra variable objetivo que es categorica pero ya esta codificada.\n",
        "Por otro lado, comenzaremos el escalamiento de datos que yo lo realizare antes de realizar las particion de datos "
      ],
      "metadata": {
        "id": "sM23MPzC454Y"
      },
      "id": "sM23MPzC454Y"
    },
    {
      "cell_type": "code",
      "source": [
        "y = df['default payment next month']\n",
        "X = df.drop(columns = 'default payment next month')"
      ],
      "metadata": {
        "id": "fVP1wzLB4son"
      },
      "id": "fVP1wzLB4son",
      "execution_count": 15,
      "outputs": []
    },
    {
      "cell_type": "code",
      "source": [
        "pca95 = PCA(n_components=.95)\n",
        "#pca95.fit(scaled_df)"
      ],
      "metadata": {
        "id": "XNib2vFF0unn"
      },
      "id": "XNib2vFF0unn",
      "execution_count": 16,
      "outputs": []
    },
    {
      "cell_type": "markdown",
      "source": [
        "Realizare este paso de escalamiento sin el pipeline ya que no tenemos que imputar ya que estos datos no presentan nulos "
      ],
      "metadata": {
        "id": "b5p38dSD7bhL"
      },
      "id": "b5p38dSD7bhL"
    },
    {
      "cell_type": "markdown",
      "source": [
        "**Particionamiento de datos**"
      ],
      "metadata": {
        "id": "3199a2kf88j1"
      },
      "id": "3199a2kf88j1"
    },
    {
      "cell_type": "code",
      "source": [
        "X_train, X_test, y_train, y_test = train_test_split(X, y, random_state=42)"
      ],
      "metadata": {
        "id": "SWIGpg-Z9CS_"
      },
      "id": "SWIGpg-Z9CS_",
      "execution_count": 17,
      "outputs": []
    },
    {
      "cell_type": "code",
      "source": [
        "X_train"
      ],
      "metadata": {
        "colab": {
          "base_uri": "https://localhost:8080/",
          "height": 487
        },
        "id": "BBtuL6wg9Pqi",
        "outputId": "aaea5491-0ef9-4899-862e-f7c46d43ad5f"
      },
      "id": "BBtuL6wg9Pqi",
      "execution_count": 18,
      "outputs": [
        {
          "output_type": "execute_result",
          "data": {
            "text/plain": [
              "       LIMIT_BAL  SEX  EDUCATION  MARRIAGE  AGE  PAY_0  PAY_2  PAY_3  PAY_4  \\\n",
              "11266      70000    2          2         1   34      2      2      2      2   \n",
              "14809     130000    1          1         1   45      2      0      0      2   \n",
              "3370       30000    1          2         2   36      0      0      0      0   \n",
              "20178     300000    2          1         1   30     -2     -2     -2     -2   \n",
              "457        50000    1          1         2   32     -1      0      0      0   \n",
              "...          ...  ...        ...       ...  ...    ...    ...    ...    ...   \n",
              "29836     180000    1          6         1   34     -2     -2     -2     -2   \n",
              "5392       90000    1          2         2   28      2      0      0      0   \n",
              "860        50000    1          1         2   26     -2     -2     -2     -2   \n",
              "15807     280000    2          2         2   25      0      0      0      0   \n",
              "23674     180000    2          2         1   38     -1      2      2     -1   \n",
              "\n",
              "       PAY_5  ...  BILL_AMT3  BILL_AMT4  BILL_AMT5  BILL_AMT6  PAY_AMT1  \\\n",
              "11266      2  ...      18310      18611      18966      19403      1000   \n",
              "14809      2  ...      58716      57174      61240      61284      3000   \n",
              "3370       0  ...      34359      32450      30633      30628      2500   \n",
              "20178     -2  ...        811       1128       1750        819         0   \n",
              "457        0  ...      25326      25775          0          0      1800   \n",
              "...      ...  ...        ...        ...        ...        ...       ...   \n",
              "29836     -2  ...          0          0          0          0         0   \n",
              "5392       2  ...      23329      24940      24404      27227      2000   \n",
              "860       -2  ...          0          0          0          0         0   \n",
              "15807      0  ...     174573     174488     172747     126494      6285   \n",
              "23674      0  ...          0       8941       5181       5181         0   \n",
              "\n",
              "       PAY_AMT2  PAY_AMT3  PAY_AMT4  PAY_AMT5  PAY_AMT6  \n",
              "11266      1500       900       800       900      2000  \n",
              "14809      5000         0      5000      1200      3000  \n",
              "3370       2215      1156      1200      3000      3000  \n",
              "20178       811      1128      1760       819       753  \n",
              "457        1900      1300         0         0         0  \n",
              "...         ...       ...       ...       ...       ...  \n",
              "29836         0         0         0         0         0  \n",
              "5392       3000      2000         0      3400         0  \n",
              "860           0         0         0         0         0  \n",
              "15807      5897      5895      7747      6509     11234  \n",
              "23674         0      8941         0         0         0  \n",
              "\n",
              "[22473 rows x 23 columns]"
            ],
            "text/html": [
              "\n",
              "  <div id=\"df-11d6a42e-f658-4014-8175-502c04b57130\">\n",
              "    <div class=\"colab-df-container\">\n",
              "      <div>\n",
              "<style scoped>\n",
              "    .dataframe tbody tr th:only-of-type {\n",
              "        vertical-align: middle;\n",
              "    }\n",
              "\n",
              "    .dataframe tbody tr th {\n",
              "        vertical-align: top;\n",
              "    }\n",
              "\n",
              "    .dataframe thead th {\n",
              "        text-align: right;\n",
              "    }\n",
              "</style>\n",
              "<table border=\"1\" class=\"dataframe\">\n",
              "  <thead>\n",
              "    <tr style=\"text-align: right;\">\n",
              "      <th></th>\n",
              "      <th>LIMIT_BAL</th>\n",
              "      <th>SEX</th>\n",
              "      <th>EDUCATION</th>\n",
              "      <th>MARRIAGE</th>\n",
              "      <th>AGE</th>\n",
              "      <th>PAY_0</th>\n",
              "      <th>PAY_2</th>\n",
              "      <th>PAY_3</th>\n",
              "      <th>PAY_4</th>\n",
              "      <th>PAY_5</th>\n",
              "      <th>...</th>\n",
              "      <th>BILL_AMT3</th>\n",
              "      <th>BILL_AMT4</th>\n",
              "      <th>BILL_AMT5</th>\n",
              "      <th>BILL_AMT6</th>\n",
              "      <th>PAY_AMT1</th>\n",
              "      <th>PAY_AMT2</th>\n",
              "      <th>PAY_AMT3</th>\n",
              "      <th>PAY_AMT4</th>\n",
              "      <th>PAY_AMT5</th>\n",
              "      <th>PAY_AMT6</th>\n",
              "    </tr>\n",
              "  </thead>\n",
              "  <tbody>\n",
              "    <tr>\n",
              "      <th>11266</th>\n",
              "      <td>70000</td>\n",
              "      <td>2</td>\n",
              "      <td>2</td>\n",
              "      <td>1</td>\n",
              "      <td>34</td>\n",
              "      <td>2</td>\n",
              "      <td>2</td>\n",
              "      <td>2</td>\n",
              "      <td>2</td>\n",
              "      <td>2</td>\n",
              "      <td>...</td>\n",
              "      <td>18310</td>\n",
              "      <td>18611</td>\n",
              "      <td>18966</td>\n",
              "      <td>19403</td>\n",
              "      <td>1000</td>\n",
              "      <td>1500</td>\n",
              "      <td>900</td>\n",
              "      <td>800</td>\n",
              "      <td>900</td>\n",
              "      <td>2000</td>\n",
              "    </tr>\n",
              "    <tr>\n",
              "      <th>14809</th>\n",
              "      <td>130000</td>\n",
              "      <td>1</td>\n",
              "      <td>1</td>\n",
              "      <td>1</td>\n",
              "      <td>45</td>\n",
              "      <td>2</td>\n",
              "      <td>0</td>\n",
              "      <td>0</td>\n",
              "      <td>2</td>\n",
              "      <td>2</td>\n",
              "      <td>...</td>\n",
              "      <td>58716</td>\n",
              "      <td>57174</td>\n",
              "      <td>61240</td>\n",
              "      <td>61284</td>\n",
              "      <td>3000</td>\n",
              "      <td>5000</td>\n",
              "      <td>0</td>\n",
              "      <td>5000</td>\n",
              "      <td>1200</td>\n",
              "      <td>3000</td>\n",
              "    </tr>\n",
              "    <tr>\n",
              "      <th>3370</th>\n",
              "      <td>30000</td>\n",
              "      <td>1</td>\n",
              "      <td>2</td>\n",
              "      <td>2</td>\n",
              "      <td>36</td>\n",
              "      <td>0</td>\n",
              "      <td>0</td>\n",
              "      <td>0</td>\n",
              "      <td>0</td>\n",
              "      <td>0</td>\n",
              "      <td>...</td>\n",
              "      <td>34359</td>\n",
              "      <td>32450</td>\n",
              "      <td>30633</td>\n",
              "      <td>30628</td>\n",
              "      <td>2500</td>\n",
              "      <td>2215</td>\n",
              "      <td>1156</td>\n",
              "      <td>1200</td>\n",
              "      <td>3000</td>\n",
              "      <td>3000</td>\n",
              "    </tr>\n",
              "    <tr>\n",
              "      <th>20178</th>\n",
              "      <td>300000</td>\n",
              "      <td>2</td>\n",
              "      <td>1</td>\n",
              "      <td>1</td>\n",
              "      <td>30</td>\n",
              "      <td>-2</td>\n",
              "      <td>-2</td>\n",
              "      <td>-2</td>\n",
              "      <td>-2</td>\n",
              "      <td>-2</td>\n",
              "      <td>...</td>\n",
              "      <td>811</td>\n",
              "      <td>1128</td>\n",
              "      <td>1750</td>\n",
              "      <td>819</td>\n",
              "      <td>0</td>\n",
              "      <td>811</td>\n",
              "      <td>1128</td>\n",
              "      <td>1760</td>\n",
              "      <td>819</td>\n",
              "      <td>753</td>\n",
              "    </tr>\n",
              "    <tr>\n",
              "      <th>457</th>\n",
              "      <td>50000</td>\n",
              "      <td>1</td>\n",
              "      <td>1</td>\n",
              "      <td>2</td>\n",
              "      <td>32</td>\n",
              "      <td>-1</td>\n",
              "      <td>0</td>\n",
              "      <td>0</td>\n",
              "      <td>0</td>\n",
              "      <td>0</td>\n",
              "      <td>...</td>\n",
              "      <td>25326</td>\n",
              "      <td>25775</td>\n",
              "      <td>0</td>\n",
              "      <td>0</td>\n",
              "      <td>1800</td>\n",
              "      <td>1900</td>\n",
              "      <td>1300</td>\n",
              "      <td>0</td>\n",
              "      <td>0</td>\n",
              "      <td>0</td>\n",
              "    </tr>\n",
              "    <tr>\n",
              "      <th>...</th>\n",
              "      <td>...</td>\n",
              "      <td>...</td>\n",
              "      <td>...</td>\n",
              "      <td>...</td>\n",
              "      <td>...</td>\n",
              "      <td>...</td>\n",
              "      <td>...</td>\n",
              "      <td>...</td>\n",
              "      <td>...</td>\n",
              "      <td>...</td>\n",
              "      <td>...</td>\n",
              "      <td>...</td>\n",
              "      <td>...</td>\n",
              "      <td>...</td>\n",
              "      <td>...</td>\n",
              "      <td>...</td>\n",
              "      <td>...</td>\n",
              "      <td>...</td>\n",
              "      <td>...</td>\n",
              "      <td>...</td>\n",
              "      <td>...</td>\n",
              "    </tr>\n",
              "    <tr>\n",
              "      <th>29836</th>\n",
              "      <td>180000</td>\n",
              "      <td>1</td>\n",
              "      <td>6</td>\n",
              "      <td>1</td>\n",
              "      <td>34</td>\n",
              "      <td>-2</td>\n",
              "      <td>-2</td>\n",
              "      <td>-2</td>\n",
              "      <td>-2</td>\n",
              "      <td>-2</td>\n",
              "      <td>...</td>\n",
              "      <td>0</td>\n",
              "      <td>0</td>\n",
              "      <td>0</td>\n",
              "      <td>0</td>\n",
              "      <td>0</td>\n",
              "      <td>0</td>\n",
              "      <td>0</td>\n",
              "      <td>0</td>\n",
              "      <td>0</td>\n",
              "      <td>0</td>\n",
              "    </tr>\n",
              "    <tr>\n",
              "      <th>5392</th>\n",
              "      <td>90000</td>\n",
              "      <td>1</td>\n",
              "      <td>2</td>\n",
              "      <td>2</td>\n",
              "      <td>28</td>\n",
              "      <td>2</td>\n",
              "      <td>0</td>\n",
              "      <td>0</td>\n",
              "      <td>0</td>\n",
              "      <td>2</td>\n",
              "      <td>...</td>\n",
              "      <td>23329</td>\n",
              "      <td>24940</td>\n",
              "      <td>24404</td>\n",
              "      <td>27227</td>\n",
              "      <td>2000</td>\n",
              "      <td>3000</td>\n",
              "      <td>2000</td>\n",
              "      <td>0</td>\n",
              "      <td>3400</td>\n",
              "      <td>0</td>\n",
              "    </tr>\n",
              "    <tr>\n",
              "      <th>860</th>\n",
              "      <td>50000</td>\n",
              "      <td>1</td>\n",
              "      <td>1</td>\n",
              "      <td>2</td>\n",
              "      <td>26</td>\n",
              "      <td>-2</td>\n",
              "      <td>-2</td>\n",
              "      <td>-2</td>\n",
              "      <td>-2</td>\n",
              "      <td>-2</td>\n",
              "      <td>...</td>\n",
              "      <td>0</td>\n",
              "      <td>0</td>\n",
              "      <td>0</td>\n",
              "      <td>0</td>\n",
              "      <td>0</td>\n",
              "      <td>0</td>\n",
              "      <td>0</td>\n",
              "      <td>0</td>\n",
              "      <td>0</td>\n",
              "      <td>0</td>\n",
              "    </tr>\n",
              "    <tr>\n",
              "      <th>15807</th>\n",
              "      <td>280000</td>\n",
              "      <td>2</td>\n",
              "      <td>2</td>\n",
              "      <td>2</td>\n",
              "      <td>25</td>\n",
              "      <td>0</td>\n",
              "      <td>0</td>\n",
              "      <td>0</td>\n",
              "      <td>0</td>\n",
              "      <td>0</td>\n",
              "      <td>...</td>\n",
              "      <td>174573</td>\n",
              "      <td>174488</td>\n",
              "      <td>172747</td>\n",
              "      <td>126494</td>\n",
              "      <td>6285</td>\n",
              "      <td>5897</td>\n",
              "      <td>5895</td>\n",
              "      <td>7747</td>\n",
              "      <td>6509</td>\n",
              "      <td>11234</td>\n",
              "    </tr>\n",
              "    <tr>\n",
              "      <th>23674</th>\n",
              "      <td>180000</td>\n",
              "      <td>2</td>\n",
              "      <td>2</td>\n",
              "      <td>1</td>\n",
              "      <td>38</td>\n",
              "      <td>-1</td>\n",
              "      <td>2</td>\n",
              "      <td>2</td>\n",
              "      <td>-1</td>\n",
              "      <td>0</td>\n",
              "      <td>...</td>\n",
              "      <td>0</td>\n",
              "      <td>8941</td>\n",
              "      <td>5181</td>\n",
              "      <td>5181</td>\n",
              "      <td>0</td>\n",
              "      <td>0</td>\n",
              "      <td>8941</td>\n",
              "      <td>0</td>\n",
              "      <td>0</td>\n",
              "      <td>0</td>\n",
              "    </tr>\n",
              "  </tbody>\n",
              "</table>\n",
              "<p>22473 rows × 23 columns</p>\n",
              "</div>\n",
              "      <button class=\"colab-df-convert\" onclick=\"convertToInteractive('df-11d6a42e-f658-4014-8175-502c04b57130')\"\n",
              "              title=\"Convert this dataframe to an interactive table.\"\n",
              "              style=\"display:none;\">\n",
              "        \n",
              "  <svg xmlns=\"http://www.w3.org/2000/svg\" height=\"24px\"viewBox=\"0 0 24 24\"\n",
              "       width=\"24px\">\n",
              "    <path d=\"M0 0h24v24H0V0z\" fill=\"none\"/>\n",
              "    <path d=\"M18.56 5.44l.94 2.06.94-2.06 2.06-.94-2.06-.94-.94-2.06-.94 2.06-2.06.94zm-11 1L8.5 8.5l.94-2.06 2.06-.94-2.06-.94L8.5 2.5l-.94 2.06-2.06.94zm10 10l.94 2.06.94-2.06 2.06-.94-2.06-.94-.94-2.06-.94 2.06-2.06.94z\"/><path d=\"M17.41 7.96l-1.37-1.37c-.4-.4-.92-.59-1.43-.59-.52 0-1.04.2-1.43.59L10.3 9.45l-7.72 7.72c-.78.78-.78 2.05 0 2.83L4 21.41c.39.39.9.59 1.41.59.51 0 1.02-.2 1.41-.59l7.78-7.78 2.81-2.81c.8-.78.8-2.07 0-2.86zM5.41 20L4 18.59l7.72-7.72 1.47 1.35L5.41 20z\"/>\n",
              "  </svg>\n",
              "      </button>\n",
              "      \n",
              "  <style>\n",
              "    .colab-df-container {\n",
              "      display:flex;\n",
              "      flex-wrap:wrap;\n",
              "      gap: 12px;\n",
              "    }\n",
              "\n",
              "    .colab-df-convert {\n",
              "      background-color: #E8F0FE;\n",
              "      border: none;\n",
              "      border-radius: 50%;\n",
              "      cursor: pointer;\n",
              "      display: none;\n",
              "      fill: #1967D2;\n",
              "      height: 32px;\n",
              "      padding: 0 0 0 0;\n",
              "      width: 32px;\n",
              "    }\n",
              "\n",
              "    .colab-df-convert:hover {\n",
              "      background-color: #E2EBFA;\n",
              "      box-shadow: 0px 1px 2px rgba(60, 64, 67, 0.3), 0px 1px 3px 1px rgba(60, 64, 67, 0.15);\n",
              "      fill: #174EA6;\n",
              "    }\n",
              "\n",
              "    [theme=dark] .colab-df-convert {\n",
              "      background-color: #3B4455;\n",
              "      fill: #D2E3FC;\n",
              "    }\n",
              "\n",
              "    [theme=dark] .colab-df-convert:hover {\n",
              "      background-color: #434B5C;\n",
              "      box-shadow: 0px 1px 3px 1px rgba(0, 0, 0, 0.15);\n",
              "      filter: drop-shadow(0px 1px 2px rgba(0, 0, 0, 0.3));\n",
              "      fill: #FFFFFF;\n",
              "    }\n",
              "  </style>\n",
              "\n",
              "      <script>\n",
              "        const buttonEl =\n",
              "          document.querySelector('#df-11d6a42e-f658-4014-8175-502c04b57130 button.colab-df-convert');\n",
              "        buttonEl.style.display =\n",
              "          google.colab.kernel.accessAllowed ? 'block' : 'none';\n",
              "\n",
              "        async function convertToInteractive(key) {\n",
              "          const element = document.querySelector('#df-11d6a42e-f658-4014-8175-502c04b57130');\n",
              "          const dataTable =\n",
              "            await google.colab.kernel.invokeFunction('convertToInteractive',\n",
              "                                                     [key], {});\n",
              "          if (!dataTable) return;\n",
              "\n",
              "          const docLinkHtml = 'Like what you see? Visit the ' +\n",
              "            '<a target=\"_blank\" href=https://colab.research.google.com/notebooks/data_table.ipynb>data table notebook</a>'\n",
              "            + ' to learn more about interactive tables.';\n",
              "          element.innerHTML = '';\n",
              "          dataTable['output_type'] = 'display_data';\n",
              "          await google.colab.output.renderOutput(dataTable, element);\n",
              "          const docLink = document.createElement('div');\n",
              "          docLink.innerHTML = docLinkHtml;\n",
              "          element.appendChild(docLink);\n",
              "        }\n",
              "      </script>\n",
              "    </div>\n",
              "  </div>\n",
              "  "
            ]
          },
          "metadata": {},
          "execution_count": 18
        }
      ]
    },
    {
      "cell_type": "code",
      "source": [
        "from sklearn.pipeline import make_pipeline\n",
        "# Create a transformer pipeline\n",
        "transformer = make_pipeline(StandardScaler(), pca95)"
      ],
      "metadata": {
        "id": "dZ23fy8n1Lqh"
      },
      "id": "dZ23fy8n1Lqh",
      "execution_count": 19,
      "outputs": []
    },
    {
      "cell_type": "markdown",
      "id": "b7c75138",
      "metadata": {
        "id": "b7c75138"
      },
      "source": [
        "### II.- Modelos\n"
      ]
    },
    {
      "cell_type": "markdown",
      "source": [
        "Los modelos que probaremos es los de prediccion ya que nuestra variable objetivo es una categorica (0:no,1:si)"
      ],
      "metadata": {
        "id": "i32_iEQE9ccn"
      },
      "id": "i32_iEQE9ccn"
    },
    {
      "cell_type": "markdown",
      "source": [
        "**Arbol de decision**"
      ],
      "metadata": {
        "id": "NyQH_Znr9ybN"
      },
      "id": "NyQH_Znr9ybN"
    },
    {
      "cell_type": "code",
      "execution_count": 20,
      "id": "11ff347f",
      "metadata": {
        "id": "11ff347f",
        "colab": {
          "base_uri": "https://localhost:8080/"
        },
        "outputId": "a0a67690-2a55-4310-aee4-9e1a0be3e746"
      },
      "outputs": [
        {
          "output_type": "stream",
          "name": "stdout",
          "text": [
            "0.8002491879143862\n",
            "0.7911105178857448\n"
          ]
        }
      ],
      "source": [
        "# Arboles de decisiones\n",
        "\n",
        "dec_tree = DecisionTreeClassifier(random_state = 42, max_depth=2)\n",
        "dec_tree_pipe = make_pipeline(transformer,dec_tree )\n",
        "dec_tree_pipe.fit(X_train, y_train)\n",
        "#dec_tree_pipe.fit(X_train, y_train)\n",
        "predict_dec_tree=dec_tree_pipe.predict(X_test)\n",
        "train_score = dec_tree_pipe.score(X_train, y_train)\n",
        "test_score = dec_tree_pipe.score(X_test, y_test)\n",
        "print(train_score)\n",
        "print(test_score)"
      ]
    },
    {
      "cell_type": "code",
      "source": [
        "from imblearn.over_sampling import RandomOverSampler, SMOTE\n",
        "from imblearn.under_sampling import RandomUnderSampler, NearMiss\n",
        "from collections import Counter\n",
        "# Randomly over sample the minority class\n",
        "ros = RandomOverSampler(random_state=42)\n",
        "X_train_ros, y_train_ros= ros.fit_resample(X_train, y_train)\n",
        "# Check the number of records after over sampling\n",
        "print(sorted(Counter(y_train_ros).items()))"
      ],
      "metadata": {
        "colab": {
          "base_uri": "https://localhost:8080/"
        },
        "id": "ZvpU17-pHXdk",
        "outputId": "65dc74b4-05ef-4a44-93fe-111960419917"
      },
      "id": "ZvpU17-pHXdk",
      "execution_count": 21,
      "outputs": [
        {
          "output_type": "stream",
          "name": "stdout",
          "text": [
            "[(0, 17530), (1, 17530)]\n"
          ]
        }
      ]
    },
    {
      "cell_type": "code",
      "source": [
        "# Train the random forest model\n",
        "# rf = RandomForestClassifier()\n",
        "ros_model = dec_tree_pipe.fit(X_train_ros, y_train_ros)\n",
        "ros_prediction_dec_tree = ros_model.predict(X_test)\n",
        "# Check the model performance\n",
        "print(classification_report(y_test, ros_prediction_dec_tree))"
      ],
      "metadata": {
        "colab": {
          "base_uri": "https://localhost:8080/"
        },
        "id": "D8LBml2OHa5e",
        "outputId": "e4217a05-275d-419d-dbe1-0015424032f8"
      },
      "id": "D8LBml2OHa5e",
      "execution_count": 22,
      "outputs": [
        {
          "output_type": "stream",
          "name": "stdout",
          "text": [
            "              precision    recall  f1-score   support\n",
            "\n",
            "           0       0.85      0.82      0.84      5805\n",
            "           1       0.46      0.52      0.49      1687\n",
            "\n",
            "    accuracy                           0.75      7492\n",
            "   macro avg       0.66      0.67      0.66      7492\n",
            "weighted avg       0.76      0.75      0.76      7492\n",
            "\n"
          ]
        }
      ]
    },
    {
      "cell_type": "markdown",
      "source": [
        "**Regresion Logistica**"
      ],
      "metadata": {
        "id": "4pteaF9G93kE"
      },
      "id": "4pteaF9G93kE"
    },
    {
      "cell_type": "code",
      "source": [
        "from sklearn.model_selection import cross_val_score\n",
        "from sklearn import  metrics\n",
        "from sklearn.model_selection import KFold\n",
        "logreg = LogisticRegression()\n",
        "logreg_pipe = make_pipeline(transformer,logreg )\n",
        "logreg_pipe.fit(X_train, y_train)\n",
        "print(logreg_pipe.score(X_train, y_train))\n",
        "print(logreg_pipe.score(X_test, y_test))"
      ],
      "metadata": {
        "colab": {
          "base_uri": "https://localhost:8080/"
        },
        "id": "5z4ZQdzC9soZ",
        "outputId": "55d78bb9-f64d-4916-b5c1-f544edc56fcb"
      },
      "id": "5z4ZQdzC9soZ",
      "execution_count": 23,
      "outputs": [
        {
          "output_type": "stream",
          "name": "stdout",
          "text": [
            "0.8127085836336938\n",
            "0.8025894287239722\n"
          ]
        }
      ]
    },
    {
      "cell_type": "code",
      "source": [
        "# Train the random forest model\n",
        "# rf = RandomForestClassifier()\n",
        "ros_model = logreg_pipe.fit(X_train_ros, y_train_ros)\n",
        "ros_prediction_logreg = ros_model.predict(X_test)\n",
        "# Check the model performance\n",
        "print(classification_report(y_test, ros_prediction_logreg))"
      ],
      "metadata": {
        "colab": {
          "base_uri": "https://localhost:8080/"
        },
        "id": "F8NYf7UPH72S",
        "outputId": "00d8a750-8a91-45aa-cc95-25c11507156e"
      },
      "id": "F8NYf7UPH72S",
      "execution_count": 24,
      "outputs": [
        {
          "output_type": "stream",
          "name": "stdout",
          "text": [
            "              precision    recall  f1-score   support\n",
            "\n",
            "           0       0.86      0.71      0.78      5805\n",
            "           1       0.38      0.62      0.47      1687\n",
            "\n",
            "    accuracy                           0.69      7492\n",
            "   macro avg       0.62      0.66      0.63      7492\n",
            "weighted avg       0.76      0.69      0.71      7492\n",
            "\n"
          ]
        }
      ]
    },
    {
      "cell_type": "markdown",
      "source": [
        "En este modelo realizaremos una mejora en el hiperparametro para ver si se mejora los resultados"
      ],
      "metadata": {
        "id": "yOKzn73j-CDE"
      },
      "id": "yOKzn73j-CDE"
    },
    {
      "cell_type": "code",
      "source": [
        "# create a list of c values and empty lists for scores\n",
        "c_values = [0.0001, 0.001, 0.01, 0.1, 1, 10, 100, 1000]\n",
        "train_scores = []\n",
        "test_scores = []\n",
        "#iterative over the c values\n",
        "for c in c_values:\n",
        " \n",
        "  # instantiate a model with each value of c and fit it on the data\n",
        "  log_reg = LogisticRegression(C=c, max_iter=1000, solver='liblinear', penalty='l1')\n",
        "  log_reg.fit(X_train, y_train)\n",
        " \n",
        "  # add the training and testing scores to our scores lists\n",
        "  train_scores.append(log_reg.score(X_train, y_train))\n",
        "  test_scores.append(log_reg.score(X_test, y_test))\n",
        " \n",
        "#plot the change in accuracy as we change the value of C\n",
        "fig, ax = plt.subplots(1,1)\n",
        "ax.plot(c_values, train_scores, label='Training Accuracy')\n",
        "ax.plot(c_values, test_scores, label='Testing Accuracy')\n",
        "ax.set_xticks(c_values)\n",
        "ax.set_title('Change in accuracy over C values for l1 regularization')\n",
        "ax.legend()\n",
        " \n",
        "#set the x axis to a logarithmic scale to show the values of C in even intervals\n",
        "ax.set_xscale('log')\n",
        "# print a dictionary of values of C and accuracy scores\n",
        "{c:score for c, score in zip(c_values, test_scores)}"
      ],
      "metadata": {
        "colab": {
          "base_uri": "https://localhost:8080/",
          "height": 431
        },
        "id": "k7vKgN9d9sk4",
        "outputId": "08f085a9-6135-45e4-fb40-f9df1f960e92"
      },
      "id": "k7vKgN9d9sk4",
      "execution_count": 25,
      "outputs": [
        {
          "output_type": "execute_result",
          "data": {
            "text/plain": [
              "{0.0001: 0.7748264815803524,\n",
              " 0.001: 0.7871062466631074,\n",
              " 0.01: 0.8011211959423385,\n",
              " 0.1: 0.8036572343833422,\n",
              " 1: 0.8041911372130273,\n",
              " 10: 0.8041911372130273,\n",
              " 100: 0.8041911372130273,\n",
              " 1000: 0.8041911372130273}"
            ]
          },
          "metadata": {},
          "execution_count": 25
        },
        {
          "output_type": "display_data",
          "data": {
            "text/plain": [
              "<Figure size 432x288 with 1 Axes>"
            ],
            "image/png": "[encoded data removed]"
          },
          "metadata": {
            "needs_background": "light"
          }
        }
      ]
    },
    {
      "cell_type": "code",
      "source": [
        "# create a list of c values and empty lists for scores\n",
        "c_values = [0.0001, 0.001, 0.01, 0.1, 1, 10, 100, 1000]\n",
        "train_scores = []\n",
        "test_scores = []\n",
        "#iterative over the c values\n",
        "for c in c_values:\n",
        "  # instantiate a model with each value of c and fit it on the data\n",
        "  log_reg = LogisticRegression(C=c, max_iter=1000, solver='liblinear', penalty='l2')\n",
        "  log_reg.fit(X_train, y_train)\n",
        " \n",
        "  # add the training and testing scores to our scores lists\n",
        "  train_scores.append(log_reg.score(X_train, y_train))\n",
        "  test_scores.append(log_reg.score(X_test, y_test))\n",
        "  \n",
        "#plot the change in accuracy as we change the value of C\n",
        "fig, ax = plt.subplots(1,1)\n",
        "ax.plot(c_values, train_scores, label='Training Accuracy')\n",
        "ax.plot(c_values, test_scores, label='Testing Accuracy')\n",
        "ax.set_xticks(c_values)\n",
        "ax.set_title('Change in accuracy over C values for l2 regularization')\n",
        "ax.legend()\n",
        "#set the x axis to a logarithmic scale to show the values of C in even intervals\n",
        "ax.set_xscale('log')\n",
        "# print a dictionary of values of C and accuracy scores\n",
        "{c:score for c, score in zip(c_values, test_scores)}"
      ],
      "metadata": {
        "colab": {
          "base_uri": "https://localhost:8080/",
          "height": 431
        },
        "id": "9LdfLZOl9sik",
        "outputId": "c3c85571-64c3-420c-d5ca-e93358322c5f"
      },
      "id": "9LdfLZOl9sik",
      "execution_count": 26,
      "outputs": [
        {
          "output_type": "execute_result",
          "data": {
            "text/plain": [
              "{0.0001: 0.7748264815803524,\n",
              " 0.001: 0.7748264815803524,\n",
              " 0.01: 0.7746930058729311,\n",
              " 0.1: 0.7748264815803524,\n",
              " 1: 0.7746930058729311,\n",
              " 10: 0.7746930058729311,\n",
              " 100: 0.7748264815803524,\n",
              " 1000: 0.7748264815803524}"
            ]
          },
          "metadata": {},
          "execution_count": 26
        },
        {
          "output_type": "display_data",
          "data": {
            "text/plain": [
              "<Figure size 432x288 with 1 Axes>"
            ],
            "image/png": "[encoded data removed]"
          },
          "metadata": {
            "needs_background": "light"
          }
        }
      ]
    },
    {
      "cell_type": "markdown",
      "source": [
        "De los dos que se propone para mejorar los resultados, vemos que la L1 con 1 tenemos 0.81 que es nuestra mejor opcion para el mejoramiento"
      ],
      "metadata": {
        "id": "qocSIoDv-bDP"
      },
      "id": "qocSIoDv-bDP"
    },
    {
      "cell_type": "markdown",
      "source": [
        "Aca despues de realizar la prueba nos damos cuenta que el resultado sin mejorar el parametro y con la mejora es igual "
      ],
      "metadata": {
        "id": "iXEISj4D-6Ct"
      },
      "id": "iXEISj4D-6Ct"
    },
    {
      "cell_type": "markdown",
      "source": [
        "**Metodo Bagging**"
      ],
      "metadata": {
        "id": "dJyjLSbz_I2d"
      },
      "id": "dJyjLSbz_I2d"
    },
    {
      "cell_type": "code",
      "source": [
        "bagcl = BaggingClassifier(random_state = 42)\n",
        "bagcl_pipe = make_pipeline(transformer,bagcl )\n",
        "bagcl_pipe.fit(X_train, y_train)\n",
        "predict_bagcl=bagcl_pipe.predict(X_test)\n",
        "bagcl_train_score = bagcl_pipe.score(X_train, y_train)\n",
        "bagcl_test_score = bagcl_pipe.score(X_test, y_test)\n",
        "print(bagcl_train_score)\n",
        "print(bagcl_test_score)"
      ],
      "metadata": {
        "colab": {
          "base_uri": "https://localhost:8080/"
        },
        "id": "XDJLVyH9_LnO",
        "outputId": "ae3f1e98-9dda-48d7-af1c-632196dd76be"
      },
      "id": "XDJLVyH9_LnO",
      "execution_count": 27,
      "outputs": [
        {
          "output_type": "stream",
          "name": "stdout",
          "text": [
            "0.9796199884305611\n",
            "0.7957821676454885\n"
          ]
        }
      ]
    },
    {
      "cell_type": "code",
      "source": [
        "# Train the random forest model\n",
        "# rf = RandomForestClassifier()\n",
        "ros_model = bagcl_pipe.fit(X_train_ros, y_train_ros)\n",
        "ros_prediction_bagcl = ros_model.predict(X_train)\n",
        "# Check the model performance\n",
        "print(classification_report(y_train, ros_prediction_bagcl))"
      ],
      "metadata": {
        "colab": {
          "base_uri": "https://localhost:8080/"
        },
        "id": "L0AznoT0IUb8",
        "outputId": "e1a4fa08-c105-4c21-ae78-153a061d9690"
      },
      "id": "L0AznoT0IUb8",
      "execution_count": 28,
      "outputs": [
        {
          "output_type": "stream",
          "name": "stdout",
          "text": [
            "              precision    recall  f1-score   support\n",
            "\n",
            "           0       1.00      1.00      1.00     17530\n",
            "           1       0.99      0.99      0.99      4943\n",
            "\n",
            "    accuracy                           1.00     22473\n",
            "   macro avg       0.99      0.99      0.99     22473\n",
            "weighted avg       1.00      1.00      1.00     22473\n",
            "\n"
          ]
        }
      ]
    },
    {
      "cell_type": "code",
      "source": [
        "# Train the random forest model\n",
        "# rf = RandomForestClassifier()\n",
        "ros_model = bagcl_pipe.fit(X_train_ros, y_train_ros)\n",
        "ros_prediction_bagcl = ros_model.predict(X_test)\n",
        "# Check the model performance\n",
        "print(classification_report(y_test, ros_prediction_bagcl))"
      ],
      "metadata": {
        "colab": {
          "base_uri": "https://localhost:8080/"
        },
        "id": "AofV_kQSILQ0",
        "outputId": "48990bd5-691d-4bb4-bfd0-afd48908942b"
      },
      "id": "AofV_kQSILQ0",
      "execution_count": 29,
      "outputs": [
        {
          "output_type": "stream",
          "name": "stdout",
          "text": [
            "              precision    recall  f1-score   support\n",
            "\n",
            "           0       0.83      0.91      0.87      5805\n",
            "           1       0.53      0.35      0.42      1687\n",
            "\n",
            "    accuracy                           0.78      7492\n",
            "   macro avg       0.68      0.63      0.65      7492\n",
            "weighted avg       0.76      0.78      0.77      7492\n",
            "\n"
          ]
        }
      ]
    },
    {
      "cell_type": "markdown",
      "source": [
        "**Bosque aleatorios**"
      ],
      "metadata": {
        "id": "TX9x-x1e_QBe"
      },
      "id": "TX9x-x1e_QBe"
    },
    {
      "cell_type": "code",
      "source": [
        "rf = RandomForestClassifier(random_state = 42)\n",
        "rf_pipe = make_pipeline(transformer,rf)\n",
        "rf_pipe.fit(X_train, y_train)\n",
        "predict_rf=rf_pipe.predict(X_test)\n",
        "rf_train_score = rf_pipe.score(X_train, y_train)\n",
        "rf_test_score = rf_pipe.score(X_test, y_test)\n",
        "print(rf_train_score)\n",
        "print(rf_test_score)"
      ],
      "metadata": {
        "colab": {
          "base_uri": "https://localhost:8080/"
        },
        "id": "fL_ZWA3i_PwE",
        "outputId": "37373717-3f2b-4f13-c6e0-0c2f04f11de2"
      },
      "id": "fL_ZWA3i_PwE",
      "execution_count": 30,
      "outputs": [
        {
          "output_type": "stream",
          "name": "stdout",
          "text": [
            "0.99933253237218\n",
            "0.8069941270688734\n"
          ]
        }
      ]
    },
    {
      "cell_type": "code",
      "source": [
        "# Train the random forest model\n",
        "# rf = RandomForestClassifier()\n",
        "ros_model = rf_pipe.fit(X_train_ros, y_train_ros)\n",
        "ros_prediction_rf = ros_model.predict(X_test)\n",
        "# Check the model performance\n",
        "print(classification_report(y_test, ros_prediction_rf))"
      ],
      "metadata": {
        "colab": {
          "base_uri": "https://localhost:8080/"
        },
        "id": "U10wUYm_Ig3T",
        "outputId": "23d93cea-07a8-46d4-b777-58242f29a37a"
      },
      "id": "U10wUYm_Ig3T",
      "execution_count": 31,
      "outputs": [
        {
          "output_type": "stream",
          "name": "stdout",
          "text": [
            "              precision    recall  f1-score   support\n",
            "\n",
            "           0       0.84      0.92      0.88      5805\n",
            "           1       0.59      0.37      0.46      1687\n",
            "\n",
            "    accuracy                           0.80      7492\n",
            "   macro avg       0.71      0.65      0.67      7492\n",
            "weighted avg       0.78      0.80      0.78      7492\n",
            "\n"
          ]
        }
      ]
    },
    {
      "cell_type": "markdown",
      "source": [
        "**Metodo KNN**"
      ],
      "metadata": {
        "id": "3wU8Blk8_eO5"
      },
      "id": "3wU8Blk8_eO5"
    },
    {
      "cell_type": "code",
      "source": [
        "knn = KNeighborsClassifier(n_neighbors=1)\n",
        "knn_pipe = make_pipeline(transformer,knn)\n",
        "knn_pipe.fit(X_train, y_train)\n",
        "Predict_knn = knn_pipe.predict(X_test)\n",
        "knn_train_score = knn_pipe.score(X_train, y_train)\n",
        "knn_test_score = knn_pipe.score(X_test, y_test)\n",
        "print(knn_train_score)\n",
        "print(knn_test_score)"
      ],
      "metadata": {
        "colab": {
          "base_uri": "https://localhost:8080/"
        },
        "id": "dU86Iy3C_jMH",
        "outputId": "19dba946-e9f9-4bbe-81a0-29954f989eef"
      },
      "id": "dU86Iy3C_jMH",
      "execution_count": 32,
      "outputs": [
        {
          "output_type": "stream",
          "name": "stdout",
          "text": [
            "0.99933253237218\n",
            "0.7373198077949813\n"
          ]
        }
      ]
    },
    {
      "cell_type": "code",
      "source": [
        "# Train the random forest model\n",
        "# rf = RandomForestClassifier()\n",
        "ros_model = knn_pipe.fit(X_train_ros, y_train_ros)\n",
        "ros_prediction_knn = ros_model.predict(X_test)\n",
        "# Check the model performance\n",
        "print(classification_report(y_test, ros_prediction_knn))"
      ],
      "metadata": {
        "colab": {
          "base_uri": "https://localhost:8080/"
        },
        "id": "-cGZGJvAIrJ-",
        "outputId": "d4fe4465-2b33-4fd6-d786-4746a785a218"
      },
      "id": "-cGZGJvAIrJ-",
      "execution_count": 33,
      "outputs": [
        {
          "output_type": "stream",
          "name": "stdout",
          "text": [
            "              precision    recall  f1-score   support\n",
            "\n",
            "           0       0.83      0.84      0.83      5805\n",
            "           1       0.41      0.40      0.40      1687\n",
            "\n",
            "    accuracy                           0.74      7492\n",
            "   macro avg       0.62      0.62      0.62      7492\n",
            "weighted avg       0.73      0.74      0.74      7492\n",
            "\n"
          ]
        }
      ]
    },
    {
      "cell_type": "markdown",
      "source": [
        "**Redes Neuronales**"
      ],
      "metadata": {
        "id": "yxw8mEBvCUJ1"
      },
      "id": "yxw8mEBvCUJ1"
    },
    {
      "cell_type": "code",
      "source": [
        "# Scale our data\n",
        "scaler = StandardScaler()\n",
        "X_train = scaler.fit_transform(X_train)\n",
        "X_test = scaler.transform(X_test)"
      ],
      "metadata": {
        "id": "_wUpSAfXHwI_"
      },
      "id": "_wUpSAfXHwI_",
      "execution_count": 34,
      "outputs": []
    },
    {
      "cell_type": "code",
      "source": [
        "input_shape = X_train.shape[1]\n",
        "input_shape"
      ],
      "metadata": {
        "colab": {
          "base_uri": "https://localhost:8080/"
        },
        "id": "VTNOKCZ3CjsN",
        "outputId": "3463b25a-b5a4-4a3d-b370-ffe72d6e071d"
      },
      "id": "VTNOKCZ3CjsN",
      "execution_count": 35,
      "outputs": [
        {
          "output_type": "execute_result",
          "data": {
            "text/plain": [
              "23"
            ]
          },
          "metadata": {},
          "execution_count": 35
        }
      ]
    },
    {
      "cell_type": "code",
      "source": [
        "# Without dropout\n",
        "# Sequential model\n",
        "model = Sequential()\n",
        "# First hidden layer\n",
        "model.add(Dense(23, # How many neurons you have in your first hidden layer\n",
        "                input_dim = input_shape, # What is the shape of your input features (number of columns)\n",
        "                activation = 'relu')) # What activation function are you using?\n",
        "model.add(Dense(10, \n",
        "                activation = 'relu'))\n",
        "model.add(Dense(1, activation = 'sigmoid'))\n",
        "model.compile(loss = 'bce', optimizer = 'adam', metrics = ['acc'])\n",
        "\n",
        "history = model.fit(X_train, y_train,\n",
        "                    validation_data = (X_test, y_test), \n",
        "                    epochs=10)"
      ],
      "metadata": {
        "colab": {
          "base_uri": "https://localhost:8080/"
        },
        "id": "DK4nvTT_Cpqf",
        "outputId": "7fa05c22-af57-4651-9622-f09ae4646acb"
      },
      "id": "DK4nvTT_Cpqf",
      "execution_count": 36,
      "outputs": [
        {
          "output_type": "stream",
          "name": "stdout",
          "text": [
            "Epoch 1/10\n",
            "703/703 [==============================] - 3s 3ms/step - loss: 0.4848 - acc: 0.8043 - val_loss: 0.4693 - val_acc: 0.8075\n",
            "Epoch 2/10\n",
            "703/703 [==============================] - 2s 2ms/step - loss: 0.4486 - acc: 0.8167 - val_loss: 0.4582 - val_acc: 0.8110\n",
            "Epoch 3/10\n",
            "703/703 [==============================] - 2s 2ms/step - loss: 0.4398 - acc: 0.8211 - val_loss: 0.4519 - val_acc: 0.8103\n",
            "Epoch 4/10\n",
            "703/703 [==============================] - 2s 2ms/step - loss: 0.4349 - acc: 0.8210 - val_loss: 0.4510 - val_acc: 0.8133\n",
            "Epoch 5/10\n",
            "703/703 [==============================] - 2s 2ms/step - loss: 0.4314 - acc: 0.8225 - val_loss: 0.4486 - val_acc: 0.8149\n",
            "Epoch 6/10\n",
            "703/703 [==============================] - 2s 2ms/step - loss: 0.4293 - acc: 0.8225 - val_loss: 0.4465 - val_acc: 0.8130\n",
            "Epoch 7/10\n",
            "703/703 [==============================] - 2s 2ms/step - loss: 0.4273 - acc: 0.8229 - val_loss: 0.4457 - val_acc: 0.8133\n",
            "Epoch 8/10\n",
            "703/703 [==============================] - 2s 2ms/step - loss: 0.4263 - acc: 0.8240 - val_loss: 0.4499 - val_acc: 0.8106\n",
            "Epoch 9/10\n",
            "703/703 [==============================] - 2s 2ms/step - loss: 0.4252 - acc: 0.8229 - val_loss: 0.4506 - val_acc: 0.8125\n",
            "Epoch 10/10\n",
            "703/703 [==============================] - 2s 3ms/step - loss: 0.4244 - acc: 0.8238 - val_loss: 0.4461 - val_acc: 0.8131\n"
          ]
        }
      ]
    },
    {
      "cell_type": "code",
      "source": [
        "#Perdida:\n",
        "plt.plot(history.history['loss'], label='Train loss')\n",
        "plt.plot(history.history['val_loss'], label='Test Loss')\n",
        "plt.legend();\n"
      ],
      "metadata": {
        "colab": {
          "base_uri": "https://localhost:8080/",
          "height": 265
        },
        "id": "Lpfno2cLDH3z",
        "outputId": "625c7493-529c-447c-f80c-921593f193d5"
      },
      "id": "Lpfno2cLDH3z",
      "execution_count": 37,
      "outputs": [
        {
          "output_type": "display_data",
          "data": {
            "text/plain": [
              "<Figure size 432x288 with 1 Axes>"
            ],
            "image/png": "[encoded data removed]"
          },
          "metadata": {
            "needs_background": "light"
          }
        }
      ]
    },
    {
      "cell_type": "code",
      "source": [
        "#metrica\n",
        "plt.plot(history.history['acc'], label='Train Acc')\n",
        "plt.plot(history.history['val_acc'], label='Test Acc')\n",
        "plt.legend();"
      ],
      "metadata": {
        "colab": {
          "base_uri": "https://localhost:8080/",
          "height": 265
        },
        "id": "sP7psxW6Dc5N",
        "outputId": "8de53200-e5eb-4d18-f817-68ad44f6b6bf"
      },
      "id": "sP7psxW6Dc5N",
      "execution_count": 38,
      "outputs": [
        {
          "output_type": "display_data",
          "data": {
            "text/plain": [
              "<Figure size 432x288 with 1 Axes>"
            ],
            "image/png": "[encoded data removed]"
          },
          "metadata": {
            "needs_background": "light"
          }
        }
      ]
    },
    {
      "cell_type": "markdown",
      "source": [
        "### III.- Validacion de los Modelos"
      ],
      "metadata": {
        "id": "_p4Oz2ZD_rZY"
      },
      "id": "_p4Oz2ZD_rZY"
    },
    {
      "cell_type": "code",
      "source": [
        "# evaluate model\n",
        "print('Redes Neuronales')\n",
        "#make predictions\n",
        "y_preds = model.predict(X_test)\n",
        " \n",
        "# round the predictions\n",
        "y_preds = np.round(y_preds)\n",
        "\n",
        "# Check the model performance\n",
        "\n",
        "print(classification_report(y_test, y_preds))\n",
        " \n",
        "ConfusionMatrixDisplay.from_predictions(y_test, y_preds, cmap='Oranges');"
      ],
      "metadata": {
        "colab": {
          "base_uri": "https://localhost:8080/",
          "height": 480
        },
        "id": "U2guv-_HFg9z",
        "outputId": "9a5b1e5d-9d02-4ce7-bc79-d7c1bee0855a"
      },
      "id": "U2guv-_HFg9z",
      "execution_count": 39,
      "outputs": [
        {
          "output_type": "stream",
          "name": "stdout",
          "text": [
            "Redes Neuronales\n",
            "235/235 [==============================] - 0s 1ms/step\n",
            "              precision    recall  f1-score   support\n",
            "\n",
            "           0       0.83      0.95      0.89      5805\n",
            "           1       0.67      0.34      0.45      1687\n",
            "\n",
            "    accuracy                           0.81      7492\n",
            "   macro avg       0.75      0.64      0.67      7492\n",
            "weighted avg       0.79      0.81      0.79      7492\n",
            "\n"
          ]
        },
        {
          "output_type": "display_data",
          "data": {
            "text/plain": [
              "<Figure size 432x288 with 2 Axes>"
            ],
            "image/png": "[encoded data removed]"
          },
          "metadata": {
            "needs_background": "light"
          }
        }
      ]
    },
    {
      "cell_type": "code",
      "source": [
        "print('Arboles de desicion')\n",
        "print(classification_report(y_test, ros_prediction_dec_tree))\n",
        "recall_1 = recall_score(y_test, ros_prediction_dec_tree)\n",
        "print(recall_1)\n",
        "cm = confusion_matrix(y_test,ros_prediction_dec_tree, labels=dec_tree_pipe.classes_)\n",
        "disp = ConfusionMatrixDisplay(confusion_matrix=cm,\n",
        "                               display_labels=dec_tree_pipe.classes_ )\n",
        "\n",
        "disp.plot()"
      ],
      "metadata": {
        "colab": {
          "base_uri": "https://localhost:8080/",
          "height": 498
        },
        "id": "6DvoC4Z__7Zj",
        "outputId": "0db68f79-0981-4f01-896b-818fa5b33418"
      },
      "id": "6DvoC4Z__7Zj",
      "execution_count": 40,
      "outputs": [
        {
          "output_type": "stream",
          "name": "stdout",
          "text": [
            "Arboles de desicion\n",
            "              precision    recall  f1-score   support\n",
            "\n",
            "           0       0.85      0.82      0.84      5805\n",
            "           1       0.46      0.52      0.49      1687\n",
            "\n",
            "    accuracy                           0.75      7492\n",
            "   macro avg       0.66      0.67      0.66      7492\n",
            "weighted avg       0.76      0.75      0.76      7492\n",
            "\n",
            "0.5186721991701245\n"
          ]
        },
        {
          "output_type": "execute_result",
          "data": {
            "text/plain": [
              "<sklearn.metrics._plot.confusion_matrix.ConfusionMatrixDisplay at 0x7f4e076c47c0>"
            ]
          },
          "metadata": {},
          "execution_count": 40
        },
        {
          "output_type": "display_data",
          "data": {
            "text/plain": [
              "<Figure size 432x288 with 2 Axes>"
            ],
            "image/png": "[encoded data removed]"
          },
          "metadata": {
            "needs_background": "light"
          }
        }
      ]
    },
    {
      "cell_type": "code",
      "source": [
        "print('Regresion Logistica')\n",
        "print(classification_report(y_test,ros_prediction_logreg ))\n",
        "cm = confusion_matrix(y_test,ros_prediction_logreg, labels=logreg_pipe.classes_)\n",
        "disp = ConfusionMatrixDisplay(confusion_matrix=cm,\n",
        "                               display_labels=logreg_pipe.classes_)\n",
        "disp.plot()"
      ],
      "metadata": {
        "colab": {
          "base_uri": "https://localhost:8080/",
          "height": 480
        },
        "id": "Z7jbppJi_7Vp",
        "outputId": "efb2af02-ed7b-433b-aed3-8edbf6d99927"
      },
      "id": "Z7jbppJi_7Vp",
      "execution_count": 41,
      "outputs": [
        {
          "output_type": "stream",
          "name": "stdout",
          "text": [
            "Regresion Logistica\n",
            "              precision    recall  f1-score   support\n",
            "\n",
            "           0       0.86      0.71      0.78      5805\n",
            "           1       0.38      0.62      0.47      1687\n",
            "\n",
            "    accuracy                           0.69      7492\n",
            "   macro avg       0.62      0.66      0.63      7492\n",
            "weighted avg       0.76      0.69      0.71      7492\n",
            "\n"
          ]
        },
        {
          "output_type": "execute_result",
          "data": {
            "text/plain": [
              "<sklearn.metrics._plot.confusion_matrix.ConfusionMatrixDisplay at 0x7f4e08ed6eb0>"
            ]
          },
          "metadata": {},
          "execution_count": 41
        },
        {
          "output_type": "display_data",
          "data": {
            "text/plain": [
              "<Figure size 432x288 with 2 Axes>"
            ],
            "image/png": "[encoded data removed]"
          },
          "metadata": {
            "needs_background": "light"
          }
        }
      ]
    },
    {
      "cell_type": "code",
      "source": [
        "print('Bagging')\n",
        "print(classification_report(y_test, ros_prediction_bagcl))\n",
        "cm = confusion_matrix(y_test,ros_prediction_bagcl, labels=bagcl_pipe.classes_)\n",
        "disp = ConfusionMatrixDisplay(confusion_matrix=cm,\n",
        "                               display_labels=bagcl_pipe.classes_)\n",
        "disp.plot()\n"
      ],
      "metadata": {
        "colab": {
          "base_uri": "https://localhost:8080/",
          "height": 480
        },
        "id": "8MwB0qoX_7TX",
        "outputId": "128625e9-aefd-4a30-9e7b-fd85e0d1fbce"
      },
      "id": "8MwB0qoX_7TX",
      "execution_count": 42,
      "outputs": [
        {
          "output_type": "stream",
          "name": "stdout",
          "text": [
            "Bagging\n",
            "              precision    recall  f1-score   support\n",
            "\n",
            "           0       0.83      0.91      0.87      5805\n",
            "           1       0.53      0.35      0.42      1687\n",
            "\n",
            "    accuracy                           0.78      7492\n",
            "   macro avg       0.68      0.63      0.65      7492\n",
            "weighted avg       0.76      0.78      0.77      7492\n",
            "\n"
          ]
        },
        {
          "output_type": "execute_result",
          "data": {
            "text/plain": [
              "<sklearn.metrics._plot.confusion_matrix.ConfusionMatrixDisplay at 0x7f4e076778b0>"
            ]
          },
          "metadata": {},
          "execution_count": 42
        },
        {
          "output_type": "display_data",
          "data": {
            "text/plain": [
              "<Figure size 432x288 with 2 Axes>"
            ],
            "image/png": "[encoded data removed]"
          },
          "metadata": {
            "needs_background": "light"
          }
        }
      ]
    },
    {
      "cell_type": "code",
      "source": [
        "print('ramdom forest')\n",
        "print(classification_report(y_test, ros_prediction_rf))\n",
        "cm = confusion_matrix(y_test,ros_prediction_rf, labels=rf_pipe.classes_)\n",
        "disp = ConfusionMatrixDisplay(confusion_matrix=cm,\n",
        "                               display_labels=rf_pipe.classes_)\n",
        "disp.plot()"
      ],
      "metadata": {
        "colab": {
          "base_uri": "https://localhost:8080/",
          "height": 480
        },
        "id": "Qy1h3gA3_7EM",
        "outputId": "e147a32a-a7f3-4a3c-a70c-7a709bbd32a8"
      },
      "id": "Qy1h3gA3_7EM",
      "execution_count": 43,
      "outputs": [
        {
          "output_type": "stream",
          "name": "stdout",
          "text": [
            "ramdom forest\n",
            "              precision    recall  f1-score   support\n",
            "\n",
            "           0       0.84      0.92      0.88      5805\n",
            "           1       0.59      0.37      0.46      1687\n",
            "\n",
            "    accuracy                           0.80      7492\n",
            "   macro avg       0.71      0.65      0.67      7492\n",
            "weighted avg       0.78      0.80      0.78      7492\n",
            "\n"
          ]
        },
        {
          "output_type": "execute_result",
          "data": {
            "text/plain": [
              "<sklearn.metrics._plot.confusion_matrix.ConfusionMatrixDisplay at 0x7f4e076c0250>"
            ]
          },
          "metadata": {},
          "execution_count": 43
        },
        {
          "output_type": "display_data",
          "data": {
            "text/plain": [
              "<Figure size 432x288 with 2 Axes>"
            ],
            "image/png": "[encoded data removed]"
          },
          "metadata": {
            "needs_background": "light"
          }
        }
      ]
    },
    {
      "cell_type": "code",
      "source": [
        "print('KNN')\n",
        "print(classification_report(y_test, ros_prediction_knn))\n",
        "cm = confusion_matrix(y_test,ros_prediction_knn, labels=knn_pipe.classes_)\n",
        "disp = ConfusionMatrixDisplay(confusion_matrix=cm,\n",
        "                               display_labels=knn_pipe.classes_)\n",
        "disp.plot()"
      ],
      "metadata": {
        "colab": {
          "base_uri": "https://localhost:8080/",
          "height": 480
        },
        "id": "xxU9OCHi_7An",
        "outputId": "e760ebe9-8ead-46dd-ec38-7b777b2193d6"
      },
      "id": "xxU9OCHi_7An",
      "execution_count": 44,
      "outputs": [
        {
          "output_type": "stream",
          "name": "stdout",
          "text": [
            "KNN\n",
            "              precision    recall  f1-score   support\n",
            "\n",
            "           0       0.83      0.84      0.83      5805\n",
            "           1       0.41      0.40      0.40      1687\n",
            "\n",
            "    accuracy                           0.74      7492\n",
            "   macro avg       0.62      0.62      0.62      7492\n",
            "weighted avg       0.73      0.74      0.74      7492\n",
            "\n"
          ]
        },
        {
          "output_type": "execute_result",
          "data": {
            "text/plain": [
              "<sklearn.metrics._plot.confusion_matrix.ConfusionMatrixDisplay at 0x7f4e0836d310>"
            ]
          },
          "metadata": {},
          "execution_count": 44
        },
        {
          "output_type": "display_data",
          "data": {
            "text/plain": [
              "<Figure size 432x288 with 2 Axes>"
            ],
            "image/png": "[encoded data removed]"
          },
          "metadata": {
            "needs_background": "light"
          }
        }
      ]
    },
    {
      "cell_type": "markdown",
      "id": "36a8c534",
      "metadata": {
        "id": "36a8c534"
      },
      "source": [
        "## Conclusiones\n",
        "\n",
        "* El mejor modelo que se ve hasta el momento segun mi punto de vista es la redes neuronales ya que tenemos en el train 0.82 y el test 0.81, lo que nos dice que no hay un sobreajuste ademas que tiene un score bueno \n",
        "\n",
        "* La segunda acotacion es que se ve que en las predicciones de \n",
        "\n",
        "\n"
      ]
    },
    {
      "cell_type": "markdown",
      "id": "8273c23d",
      "metadata": {
        "id": "8273c23d"
      },
      "source": [
        "## Referencias\n",
        "\n",
        "* [Curso CodingDojo-DataScience](https://github.com/fralfaro/CodingDojo-DataScience)"
      ]
    }
  ],
  "metadata": {
    "kernelspec": {
      "display_name": "Python 3 (ipykernel)",
      "language": "python",
      "name": "python3"
    },
    "language_info": {
      "codemirror_mode": {
        "name": "ipython",
        "version": 3
      },
      "file_extension": ".py",
      "mimetype": "text/x-python",
      "name": "python",
      "nbconvert_exporter": "python",
      "pygments_lexer": "ipython3",
      "version": "3.8.5"
    },
    "colab": {
      "provenance": []
    }
  },
  "nbformat": 4,
  "nbformat_minor": 5
}